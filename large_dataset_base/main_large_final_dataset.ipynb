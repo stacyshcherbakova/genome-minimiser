{
 "cells": [
  {
   "cell_type": "code",
   "execution_count": 1,
   "metadata": {},
   "outputs": [],
   "source": [
    "import sys\n",
    "import os\n",
    "\n",
    "current_dir = os.getcwd()\n",
    "parent_dir = os.path.abspath(os.path.join(current_dir, '..'))\n",
    "sys.path.insert(0, parent_dir)\n",
    "\n",
    "import pandas as pd \n",
    "import numpy as np \n",
    "import sklearn\n",
    "from dir import *\n",
    "import matplotlib.pyplot as plt\n",
    "from torch.utils.data import DataLoader, TensorDataset, Subset\n",
    "from sklearn.model_selection import train_test_split\n",
    "from VAE_models.VAE_model import *\n",
    "from VAE_models.VAE_model_2 import *\n",
    "from VAE_models.VAE_model_single import *\n",
    "from training import *\n",
    "from extras import *\n",
    "import mantel\n",
    "from Bio import Phylo\n",
    "from Bio.Phylo.TreeConstruction import DistanceMatrix\n",
    "from scipy.spatial.distance import squareform\n",
    "from sklearn.metrics import pairwise_distances\n",
    "from collections import defaultdict\n",
    "from scipy.stats import pearsonr, spearmanr\n",
    "# from skbio.stats.distance import mantel\n",
    "from sklearn.decomposition import PCA\n",
    "import pingouin as pg\n",
    "from sklearn.cluster import KMeans\n",
    "plt.style.use('ggplot')\n",
    "device = torch.device(\"cuda\" if torch.cuda.is_available() else \"cpu\")"
   ]
  },
  {
   "cell_type": "markdown",
   "metadata": {},
   "source": [
    "# 1) Data exploration "
   ]
  },
  {
   "cell_type": "markdown",
   "metadata": {},
   "source": [
    "## 1.1) General data exploration"
   ]
  },
  {
   "cell_type": "code",
   "execution_count": 2,
   "metadata": {},
   "outputs": [],
   "source": [
    "large_data = pd.read_csv(TEN_K_DATASET, index_col=[0], header=[0])"
   ]
  },
  {
   "cell_type": "code",
   "execution_count": 3,
   "metadata": {},
   "outputs": [
    {
     "data": {
      "text/html": [
       "<div>\n",
       "<style scoped>\n",
       "    .dataframe tbody tr th:only-of-type {\n",
       "        vertical-align: middle;\n",
       "    }\n",
       "\n",
       "    .dataframe tbody tr th {\n",
       "        vertical-align: top;\n",
       "    }\n",
       "\n",
       "    .dataframe thead th {\n",
       "        text-align: right;\n",
       "    }\n",
       "</style>\n",
       "<table border=\"1\" class=\"dataframe\">\n",
       "  <thead>\n",
       "    <tr style=\"text-align: right;\">\n",
       "      <th></th>\n",
       "      <th>41004_G02_contigs_pacbio</th>\n",
       "      <th>50884_F01_contigs_pacbio</th>\n",
       "      <th>AIAW00000000</th>\n",
       "      <th>AIBY00000000</th>\n",
       "      <th>AIFN00000000</th>\n",
       "      <th>NC_002655</th>\n",
       "      <th>NC_002695</th>\n",
       "      <th>NC_011353</th>\n",
       "      <th>NC_013008</th>\n",
       "      <th>NC_017906</th>\n",
       "      <th>...</th>\n",
       "      <th>esc_pa2010aa_as</th>\n",
       "      <th>esc_pa2013aa_as</th>\n",
       "      <th>esc_pa2014aa_as</th>\n",
       "      <th>esc_pa2016aa_as</th>\n",
       "      <th>esc_pa2019aa_as</th>\n",
       "      <th>esc_pa2021aa_as</th>\n",
       "      <th>esc_pa2023aa_as</th>\n",
       "      <th>esc_pa2315aa_as</th>\n",
       "      <th>esc_ra2551aa_as</th>\n",
       "      <th>esc_ra2561aa_as</th>\n",
       "    </tr>\n",
       "    <tr>\n",
       "      <th>Strain</th>\n",
       "      <th></th>\n",
       "      <th></th>\n",
       "      <th></th>\n",
       "      <th></th>\n",
       "      <th></th>\n",
       "      <th></th>\n",
       "      <th></th>\n",
       "      <th></th>\n",
       "      <th></th>\n",
       "      <th></th>\n",
       "      <th></th>\n",
       "      <th></th>\n",
       "      <th></th>\n",
       "      <th></th>\n",
       "      <th></th>\n",
       "      <th></th>\n",
       "      <th></th>\n",
       "      <th></th>\n",
       "      <th></th>\n",
       "      <th></th>\n",
       "      <th></th>\n",
       "    </tr>\n",
       "  </thead>\n",
       "  <tbody>\n",
       "    <tr>\n",
       "      <th>Lineage</th>\n",
       "      <td>1</td>\n",
       "      <td>1</td>\n",
       "      <td>1</td>\n",
       "      <td>1</td>\n",
       "      <td>1</td>\n",
       "      <td>1</td>\n",
       "      <td>1</td>\n",
       "      <td>1</td>\n",
       "      <td>1</td>\n",
       "      <td>1</td>\n",
       "      <td>...</td>\n",
       "      <td>51</td>\n",
       "      <td>51</td>\n",
       "      <td>51</td>\n",
       "      <td>51</td>\n",
       "      <td>51</td>\n",
       "      <td>51</td>\n",
       "      <td>51</td>\n",
       "      <td>51</td>\n",
       "      <td>51</td>\n",
       "      <td>51</td>\n",
       "    </tr>\n",
       "    <tr>\n",
       "      <th>group_5501</th>\n",
       "      <td>0</td>\n",
       "      <td>0</td>\n",
       "      <td>0</td>\n",
       "      <td>0</td>\n",
       "      <td>0</td>\n",
       "      <td>0</td>\n",
       "      <td>0</td>\n",
       "      <td>0</td>\n",
       "      <td>0</td>\n",
       "      <td>0</td>\n",
       "      <td>...</td>\n",
       "      <td>0</td>\n",
       "      <td>0</td>\n",
       "      <td>0</td>\n",
       "      <td>0</td>\n",
       "      <td>0</td>\n",
       "      <td>0</td>\n",
       "      <td>0</td>\n",
       "      <td>0</td>\n",
       "      <td>0</td>\n",
       "      <td>0</td>\n",
       "    </tr>\n",
       "    <tr>\n",
       "      <th>group_4783</th>\n",
       "      <td>0</td>\n",
       "      <td>0</td>\n",
       "      <td>0</td>\n",
       "      <td>0</td>\n",
       "      <td>0</td>\n",
       "      <td>0</td>\n",
       "      <td>0</td>\n",
       "      <td>0</td>\n",
       "      <td>0</td>\n",
       "      <td>0</td>\n",
       "      <td>...</td>\n",
       "      <td>0</td>\n",
       "      <td>0</td>\n",
       "      <td>0</td>\n",
       "      <td>0</td>\n",
       "      <td>0</td>\n",
       "      <td>0</td>\n",
       "      <td>0</td>\n",
       "      <td>0</td>\n",
       "      <td>0</td>\n",
       "      <td>0</td>\n",
       "    </tr>\n",
       "    <tr>\n",
       "      <th>group_4456</th>\n",
       "      <td>0</td>\n",
       "      <td>0</td>\n",
       "      <td>0</td>\n",
       "      <td>0</td>\n",
       "      <td>0</td>\n",
       "      <td>0</td>\n",
       "      <td>0</td>\n",
       "      <td>0</td>\n",
       "      <td>0</td>\n",
       "      <td>0</td>\n",
       "      <td>...</td>\n",
       "      <td>0</td>\n",
       "      <td>0</td>\n",
       "      <td>0</td>\n",
       "      <td>0</td>\n",
       "      <td>0</td>\n",
       "      <td>0</td>\n",
       "      <td>0</td>\n",
       "      <td>0</td>\n",
       "      <td>0</td>\n",
       "      <td>0</td>\n",
       "    </tr>\n",
       "    <tr>\n",
       "      <th>group_6055</th>\n",
       "      <td>0</td>\n",
       "      <td>0</td>\n",
       "      <td>0</td>\n",
       "      <td>0</td>\n",
       "      <td>0</td>\n",
       "      <td>0</td>\n",
       "      <td>0</td>\n",
       "      <td>0</td>\n",
       "      <td>0</td>\n",
       "      <td>0</td>\n",
       "      <td>...</td>\n",
       "      <td>0</td>\n",
       "      <td>0</td>\n",
       "      <td>0</td>\n",
       "      <td>0</td>\n",
       "      <td>0</td>\n",
       "      <td>0</td>\n",
       "      <td>0</td>\n",
       "      <td>0</td>\n",
       "      <td>0</td>\n",
       "      <td>0</td>\n",
       "    </tr>\n",
       "    <tr>\n",
       "      <th>...</th>\n",
       "      <td>...</td>\n",
       "      <td>...</td>\n",
       "      <td>...</td>\n",
       "      <td>...</td>\n",
       "      <td>...</td>\n",
       "      <td>...</td>\n",
       "      <td>...</td>\n",
       "      <td>...</td>\n",
       "      <td>...</td>\n",
       "      <td>...</td>\n",
       "      <td>...</td>\n",
       "      <td>...</td>\n",
       "      <td>...</td>\n",
       "      <td>...</td>\n",
       "      <td>...</td>\n",
       "      <td>...</td>\n",
       "      <td>...</td>\n",
       "      <td>...</td>\n",
       "      <td>...</td>\n",
       "      <td>...</td>\n",
       "      <td>...</td>\n",
       "    </tr>\n",
       "    <tr>\n",
       "      <th>group_2149_7</th>\n",
       "      <td>0</td>\n",
       "      <td>0</td>\n",
       "      <td>0</td>\n",
       "      <td>0</td>\n",
       "      <td>0</td>\n",
       "      <td>0</td>\n",
       "      <td>0</td>\n",
       "      <td>0</td>\n",
       "      <td>0</td>\n",
       "      <td>0</td>\n",
       "      <td>...</td>\n",
       "      <td>0</td>\n",
       "      <td>0</td>\n",
       "      <td>0</td>\n",
       "      <td>0</td>\n",
       "      <td>0</td>\n",
       "      <td>0</td>\n",
       "      <td>0</td>\n",
       "      <td>0</td>\n",
       "      <td>0</td>\n",
       "      <td>0</td>\n",
       "    </tr>\n",
       "    <tr>\n",
       "      <th>group_2067_4</th>\n",
       "      <td>0</td>\n",
       "      <td>0</td>\n",
       "      <td>0</td>\n",
       "      <td>0</td>\n",
       "      <td>0</td>\n",
       "      <td>0</td>\n",
       "      <td>0</td>\n",
       "      <td>0</td>\n",
       "      <td>0</td>\n",
       "      <td>0</td>\n",
       "      <td>...</td>\n",
       "      <td>0</td>\n",
       "      <td>0</td>\n",
       "      <td>0</td>\n",
       "      <td>0</td>\n",
       "      <td>0</td>\n",
       "      <td>0</td>\n",
       "      <td>0</td>\n",
       "      <td>0</td>\n",
       "      <td>0</td>\n",
       "      <td>0</td>\n",
       "    </tr>\n",
       "    <tr>\n",
       "      <th>group_2068_8</th>\n",
       "      <td>0</td>\n",
       "      <td>0</td>\n",
       "      <td>0</td>\n",
       "      <td>0</td>\n",
       "      <td>0</td>\n",
       "      <td>0</td>\n",
       "      <td>0</td>\n",
       "      <td>0</td>\n",
       "      <td>0</td>\n",
       "      <td>0</td>\n",
       "      <td>...</td>\n",
       "      <td>0</td>\n",
       "      <td>0</td>\n",
       "      <td>0</td>\n",
       "      <td>0</td>\n",
       "      <td>0</td>\n",
       "      <td>0</td>\n",
       "      <td>0</td>\n",
       "      <td>0</td>\n",
       "      <td>0</td>\n",
       "      <td>0</td>\n",
       "    </tr>\n",
       "    <tr>\n",
       "      <th>group_2069_3</th>\n",
       "      <td>0</td>\n",
       "      <td>0</td>\n",
       "      <td>0</td>\n",
       "      <td>0</td>\n",
       "      <td>0</td>\n",
       "      <td>0</td>\n",
       "      <td>0</td>\n",
       "      <td>0</td>\n",
       "      <td>0</td>\n",
       "      <td>0</td>\n",
       "      <td>...</td>\n",
       "      <td>0</td>\n",
       "      <td>0</td>\n",
       "      <td>0</td>\n",
       "      <td>0</td>\n",
       "      <td>0</td>\n",
       "      <td>0</td>\n",
       "      <td>0</td>\n",
       "      <td>0</td>\n",
       "      <td>0</td>\n",
       "      <td>0</td>\n",
       "    </tr>\n",
       "    <tr>\n",
       "      <th>group_2071_4</th>\n",
       "      <td>0</td>\n",
       "      <td>0</td>\n",
       "      <td>0</td>\n",
       "      <td>0</td>\n",
       "      <td>0</td>\n",
       "      <td>0</td>\n",
       "      <td>0</td>\n",
       "      <td>0</td>\n",
       "      <td>0</td>\n",
       "      <td>0</td>\n",
       "      <td>...</td>\n",
       "      <td>0</td>\n",
       "      <td>0</td>\n",
       "      <td>0</td>\n",
       "      <td>0</td>\n",
       "      <td>0</td>\n",
       "      <td>0</td>\n",
       "      <td>0</td>\n",
       "      <td>0</td>\n",
       "      <td>0</td>\n",
       "      <td>0</td>\n",
       "    </tr>\n",
       "  </tbody>\n",
       "</table>\n",
       "<p>55040 rows × 7512 columns</p>\n",
       "</div>"
      ],
      "text/plain": [
       "              41004_G02_contigs_pacbio  50884_F01_contigs_pacbio  \\\n",
       "Strain                                                             \n",
       "Lineage                              1                         1   \n",
       "group_5501                           0                         0   \n",
       "group_4783                           0                         0   \n",
       "group_4456                           0                         0   \n",
       "group_6055                           0                         0   \n",
       "...                                ...                       ...   \n",
       "group_2149_7                         0                         0   \n",
       "group_2067_4                         0                         0   \n",
       "group_2068_8                         0                         0   \n",
       "group_2069_3                         0                         0   \n",
       "group_2071_4                         0                         0   \n",
       "\n",
       "              AIAW00000000  AIBY00000000  AIFN00000000  NC_002655  NC_002695  \\\n",
       "Strain                                                                         \n",
       "Lineage                  1             1             1          1          1   \n",
       "group_5501               0             0             0          0          0   \n",
       "group_4783               0             0             0          0          0   \n",
       "group_4456               0             0             0          0          0   \n",
       "group_6055               0             0             0          0          0   \n",
       "...                    ...           ...           ...        ...        ...   \n",
       "group_2149_7             0             0             0          0          0   \n",
       "group_2067_4             0             0             0          0          0   \n",
       "group_2068_8             0             0             0          0          0   \n",
       "group_2069_3             0             0             0          0          0   \n",
       "group_2071_4             0             0             0          0          0   \n",
       "\n",
       "              NC_011353  NC_013008  NC_017906  ...  esc_pa2010aa_as  \\\n",
       "Strain                                         ...                    \n",
       "Lineage               1          1          1  ...               51   \n",
       "group_5501            0          0          0  ...                0   \n",
       "group_4783            0          0          0  ...                0   \n",
       "group_4456            0          0          0  ...                0   \n",
       "group_6055            0          0          0  ...                0   \n",
       "...                 ...        ...        ...  ...              ...   \n",
       "group_2149_7          0          0          0  ...                0   \n",
       "group_2067_4          0          0          0  ...                0   \n",
       "group_2068_8          0          0          0  ...                0   \n",
       "group_2069_3          0          0          0  ...                0   \n",
       "group_2071_4          0          0          0  ...                0   \n",
       "\n",
       "              esc_pa2013aa_as  esc_pa2014aa_as  esc_pa2016aa_as  \\\n",
       "Strain                                                            \n",
       "Lineage                    51               51               51   \n",
       "group_5501                  0                0                0   \n",
       "group_4783                  0                0                0   \n",
       "group_4456                  0                0                0   \n",
       "group_6055                  0                0                0   \n",
       "...                       ...              ...              ...   \n",
       "group_2149_7                0                0                0   \n",
       "group_2067_4                0                0                0   \n",
       "group_2068_8                0                0                0   \n",
       "group_2069_3                0                0                0   \n",
       "group_2071_4                0                0                0   \n",
       "\n",
       "              esc_pa2019aa_as  esc_pa2021aa_as  esc_pa2023aa_as  \\\n",
       "Strain                                                            \n",
       "Lineage                    51               51               51   \n",
       "group_5501                  0                0                0   \n",
       "group_4783                  0                0                0   \n",
       "group_4456                  0                0                0   \n",
       "group_6055                  0                0                0   \n",
       "...                       ...              ...              ...   \n",
       "group_2149_7                0                0                0   \n",
       "group_2067_4                0                0                0   \n",
       "group_2068_8                0                0                0   \n",
       "group_2069_3                0                0                0   \n",
       "group_2071_4                0                0                0   \n",
       "\n",
       "              esc_pa2315aa_as  esc_ra2551aa_as  esc_ra2561aa_as  \n",
       "Strain                                                           \n",
       "Lineage                    51               51               51  \n",
       "group_5501                  0                0                0  \n",
       "group_4783                  0                0                0  \n",
       "group_4456                  0                0                0  \n",
       "group_6055                  0                0                0  \n",
       "...                       ...              ...              ...  \n",
       "group_2149_7                0                0                0  \n",
       "group_2067_4                0                0                0  \n",
       "group_2068_8                0                0                0  \n",
       "group_2069_3                0                0                0  \n",
       "group_2071_4                0                0                0  \n",
       "\n",
       "[55040 rows x 7512 columns]"
      ]
     },
     "execution_count": 3,
     "metadata": {},
     "output_type": "execute_result"
    }
   ],
   "source": [
    "large_data"
   ]
  },
  {
   "cell_type": "code",
   "execution_count": 4,
   "metadata": {},
   "outputs": [],
   "source": [
    "large_data.columns = large_data.columns.str.upper()"
   ]
  },
  {
   "cell_type": "code",
   "execution_count": 5,
   "metadata": {},
   "outputs": [
    {
     "data": {
      "text/html": [
       "<div>\n",
       "<style scoped>\n",
       "    .dataframe tbody tr th:only-of-type {\n",
       "        vertical-align: middle;\n",
       "    }\n",
       "\n",
       "    .dataframe tbody tr th {\n",
       "        vertical-align: top;\n",
       "    }\n",
       "\n",
       "    .dataframe thead th {\n",
       "        text-align: right;\n",
       "    }\n",
       "</style>\n",
       "<table border=\"1\" class=\"dataframe\">\n",
       "  <thead>\n",
       "    <tr style=\"text-align: right;\">\n",
       "      <th></th>\n",
       "      <th>41004_G02_CONTIGS_PACBIO</th>\n",
       "      <th>50884_F01_CONTIGS_PACBIO</th>\n",
       "      <th>AIAW00000000</th>\n",
       "      <th>AIBY00000000</th>\n",
       "      <th>AIFN00000000</th>\n",
       "      <th>NC_002655</th>\n",
       "      <th>NC_002695</th>\n",
       "      <th>NC_011353</th>\n",
       "      <th>NC_013008</th>\n",
       "      <th>NC_017906</th>\n",
       "      <th>...</th>\n",
       "      <th>ESC_PA2010AA_AS</th>\n",
       "      <th>ESC_PA2013AA_AS</th>\n",
       "      <th>ESC_PA2014AA_AS</th>\n",
       "      <th>ESC_PA2016AA_AS</th>\n",
       "      <th>ESC_PA2019AA_AS</th>\n",
       "      <th>ESC_PA2021AA_AS</th>\n",
       "      <th>ESC_PA2023AA_AS</th>\n",
       "      <th>ESC_PA2315AA_AS</th>\n",
       "      <th>ESC_RA2551AA_AS</th>\n",
       "      <th>ESC_RA2561AA_AS</th>\n",
       "    </tr>\n",
       "    <tr>\n",
       "      <th>Strain</th>\n",
       "      <th></th>\n",
       "      <th></th>\n",
       "      <th></th>\n",
       "      <th></th>\n",
       "      <th></th>\n",
       "      <th></th>\n",
       "      <th></th>\n",
       "      <th></th>\n",
       "      <th></th>\n",
       "      <th></th>\n",
       "      <th></th>\n",
       "      <th></th>\n",
       "      <th></th>\n",
       "      <th></th>\n",
       "      <th></th>\n",
       "      <th></th>\n",
       "      <th></th>\n",
       "      <th></th>\n",
       "      <th></th>\n",
       "      <th></th>\n",
       "      <th></th>\n",
       "    </tr>\n",
       "  </thead>\n",
       "  <tbody>\n",
       "    <tr>\n",
       "      <th>Lineage</th>\n",
       "      <td>1</td>\n",
       "      <td>1</td>\n",
       "      <td>1</td>\n",
       "      <td>1</td>\n",
       "      <td>1</td>\n",
       "      <td>1</td>\n",
       "      <td>1</td>\n",
       "      <td>1</td>\n",
       "      <td>1</td>\n",
       "      <td>1</td>\n",
       "      <td>...</td>\n",
       "      <td>51</td>\n",
       "      <td>51</td>\n",
       "      <td>51</td>\n",
       "      <td>51</td>\n",
       "      <td>51</td>\n",
       "      <td>51</td>\n",
       "      <td>51</td>\n",
       "      <td>51</td>\n",
       "      <td>51</td>\n",
       "      <td>51</td>\n",
       "    </tr>\n",
       "    <tr>\n",
       "      <th>group_5501</th>\n",
       "      <td>0</td>\n",
       "      <td>0</td>\n",
       "      <td>0</td>\n",
       "      <td>0</td>\n",
       "      <td>0</td>\n",
       "      <td>0</td>\n",
       "      <td>0</td>\n",
       "      <td>0</td>\n",
       "      <td>0</td>\n",
       "      <td>0</td>\n",
       "      <td>...</td>\n",
       "      <td>0</td>\n",
       "      <td>0</td>\n",
       "      <td>0</td>\n",
       "      <td>0</td>\n",
       "      <td>0</td>\n",
       "      <td>0</td>\n",
       "      <td>0</td>\n",
       "      <td>0</td>\n",
       "      <td>0</td>\n",
       "      <td>0</td>\n",
       "    </tr>\n",
       "    <tr>\n",
       "      <th>group_4783</th>\n",
       "      <td>0</td>\n",
       "      <td>0</td>\n",
       "      <td>0</td>\n",
       "      <td>0</td>\n",
       "      <td>0</td>\n",
       "      <td>0</td>\n",
       "      <td>0</td>\n",
       "      <td>0</td>\n",
       "      <td>0</td>\n",
       "      <td>0</td>\n",
       "      <td>...</td>\n",
       "      <td>0</td>\n",
       "      <td>0</td>\n",
       "      <td>0</td>\n",
       "      <td>0</td>\n",
       "      <td>0</td>\n",
       "      <td>0</td>\n",
       "      <td>0</td>\n",
       "      <td>0</td>\n",
       "      <td>0</td>\n",
       "      <td>0</td>\n",
       "    </tr>\n",
       "    <tr>\n",
       "      <th>group_4456</th>\n",
       "      <td>0</td>\n",
       "      <td>0</td>\n",
       "      <td>0</td>\n",
       "      <td>0</td>\n",
       "      <td>0</td>\n",
       "      <td>0</td>\n",
       "      <td>0</td>\n",
       "      <td>0</td>\n",
       "      <td>0</td>\n",
       "      <td>0</td>\n",
       "      <td>...</td>\n",
       "      <td>0</td>\n",
       "      <td>0</td>\n",
       "      <td>0</td>\n",
       "      <td>0</td>\n",
       "      <td>0</td>\n",
       "      <td>0</td>\n",
       "      <td>0</td>\n",
       "      <td>0</td>\n",
       "      <td>0</td>\n",
       "      <td>0</td>\n",
       "    </tr>\n",
       "    <tr>\n",
       "      <th>group_6055</th>\n",
       "      <td>0</td>\n",
       "      <td>0</td>\n",
       "      <td>0</td>\n",
       "      <td>0</td>\n",
       "      <td>0</td>\n",
       "      <td>0</td>\n",
       "      <td>0</td>\n",
       "      <td>0</td>\n",
       "      <td>0</td>\n",
       "      <td>0</td>\n",
       "      <td>...</td>\n",
       "      <td>0</td>\n",
       "      <td>0</td>\n",
       "      <td>0</td>\n",
       "      <td>0</td>\n",
       "      <td>0</td>\n",
       "      <td>0</td>\n",
       "      <td>0</td>\n",
       "      <td>0</td>\n",
       "      <td>0</td>\n",
       "      <td>0</td>\n",
       "    </tr>\n",
       "    <tr>\n",
       "      <th>...</th>\n",
       "      <td>...</td>\n",
       "      <td>...</td>\n",
       "      <td>...</td>\n",
       "      <td>...</td>\n",
       "      <td>...</td>\n",
       "      <td>...</td>\n",
       "      <td>...</td>\n",
       "      <td>...</td>\n",
       "      <td>...</td>\n",
       "      <td>...</td>\n",
       "      <td>...</td>\n",
       "      <td>...</td>\n",
       "      <td>...</td>\n",
       "      <td>...</td>\n",
       "      <td>...</td>\n",
       "      <td>...</td>\n",
       "      <td>...</td>\n",
       "      <td>...</td>\n",
       "      <td>...</td>\n",
       "      <td>...</td>\n",
       "      <td>...</td>\n",
       "    </tr>\n",
       "    <tr>\n",
       "      <th>group_2149_7</th>\n",
       "      <td>0</td>\n",
       "      <td>0</td>\n",
       "      <td>0</td>\n",
       "      <td>0</td>\n",
       "      <td>0</td>\n",
       "      <td>0</td>\n",
       "      <td>0</td>\n",
       "      <td>0</td>\n",
       "      <td>0</td>\n",
       "      <td>0</td>\n",
       "      <td>...</td>\n",
       "      <td>0</td>\n",
       "      <td>0</td>\n",
       "      <td>0</td>\n",
       "      <td>0</td>\n",
       "      <td>0</td>\n",
       "      <td>0</td>\n",
       "      <td>0</td>\n",
       "      <td>0</td>\n",
       "      <td>0</td>\n",
       "      <td>0</td>\n",
       "    </tr>\n",
       "    <tr>\n",
       "      <th>group_2067_4</th>\n",
       "      <td>0</td>\n",
       "      <td>0</td>\n",
       "      <td>0</td>\n",
       "      <td>0</td>\n",
       "      <td>0</td>\n",
       "      <td>0</td>\n",
       "      <td>0</td>\n",
       "      <td>0</td>\n",
       "      <td>0</td>\n",
       "      <td>0</td>\n",
       "      <td>...</td>\n",
       "      <td>0</td>\n",
       "      <td>0</td>\n",
       "      <td>0</td>\n",
       "      <td>0</td>\n",
       "      <td>0</td>\n",
       "      <td>0</td>\n",
       "      <td>0</td>\n",
       "      <td>0</td>\n",
       "      <td>0</td>\n",
       "      <td>0</td>\n",
       "    </tr>\n",
       "    <tr>\n",
       "      <th>group_2068_8</th>\n",
       "      <td>0</td>\n",
       "      <td>0</td>\n",
       "      <td>0</td>\n",
       "      <td>0</td>\n",
       "      <td>0</td>\n",
       "      <td>0</td>\n",
       "      <td>0</td>\n",
       "      <td>0</td>\n",
       "      <td>0</td>\n",
       "      <td>0</td>\n",
       "      <td>...</td>\n",
       "      <td>0</td>\n",
       "      <td>0</td>\n",
       "      <td>0</td>\n",
       "      <td>0</td>\n",
       "      <td>0</td>\n",
       "      <td>0</td>\n",
       "      <td>0</td>\n",
       "      <td>0</td>\n",
       "      <td>0</td>\n",
       "      <td>0</td>\n",
       "    </tr>\n",
       "    <tr>\n",
       "      <th>group_2069_3</th>\n",
       "      <td>0</td>\n",
       "      <td>0</td>\n",
       "      <td>0</td>\n",
       "      <td>0</td>\n",
       "      <td>0</td>\n",
       "      <td>0</td>\n",
       "      <td>0</td>\n",
       "      <td>0</td>\n",
       "      <td>0</td>\n",
       "      <td>0</td>\n",
       "      <td>...</td>\n",
       "      <td>0</td>\n",
       "      <td>0</td>\n",
       "      <td>0</td>\n",
       "      <td>0</td>\n",
       "      <td>0</td>\n",
       "      <td>0</td>\n",
       "      <td>0</td>\n",
       "      <td>0</td>\n",
       "      <td>0</td>\n",
       "      <td>0</td>\n",
       "    </tr>\n",
       "    <tr>\n",
       "      <th>group_2071_4</th>\n",
       "      <td>0</td>\n",
       "      <td>0</td>\n",
       "      <td>0</td>\n",
       "      <td>0</td>\n",
       "      <td>0</td>\n",
       "      <td>0</td>\n",
       "      <td>0</td>\n",
       "      <td>0</td>\n",
       "      <td>0</td>\n",
       "      <td>0</td>\n",
       "      <td>...</td>\n",
       "      <td>0</td>\n",
       "      <td>0</td>\n",
       "      <td>0</td>\n",
       "      <td>0</td>\n",
       "      <td>0</td>\n",
       "      <td>0</td>\n",
       "      <td>0</td>\n",
       "      <td>0</td>\n",
       "      <td>0</td>\n",
       "      <td>0</td>\n",
       "    </tr>\n",
       "  </tbody>\n",
       "</table>\n",
       "<p>55040 rows × 7512 columns</p>\n",
       "</div>"
      ],
      "text/plain": [
       "              41004_G02_CONTIGS_PACBIO  50884_F01_CONTIGS_PACBIO  \\\n",
       "Strain                                                             \n",
       "Lineage                              1                         1   \n",
       "group_5501                           0                         0   \n",
       "group_4783                           0                         0   \n",
       "group_4456                           0                         0   \n",
       "group_6055                           0                         0   \n",
       "...                                ...                       ...   \n",
       "group_2149_7                         0                         0   \n",
       "group_2067_4                         0                         0   \n",
       "group_2068_8                         0                         0   \n",
       "group_2069_3                         0                         0   \n",
       "group_2071_4                         0                         0   \n",
       "\n",
       "              AIAW00000000  AIBY00000000  AIFN00000000  NC_002655  NC_002695  \\\n",
       "Strain                                                                         \n",
       "Lineage                  1             1             1          1          1   \n",
       "group_5501               0             0             0          0          0   \n",
       "group_4783               0             0             0          0          0   \n",
       "group_4456               0             0             0          0          0   \n",
       "group_6055               0             0             0          0          0   \n",
       "...                    ...           ...           ...        ...        ...   \n",
       "group_2149_7             0             0             0          0          0   \n",
       "group_2067_4             0             0             0          0          0   \n",
       "group_2068_8             0             0             0          0          0   \n",
       "group_2069_3             0             0             0          0          0   \n",
       "group_2071_4             0             0             0          0          0   \n",
       "\n",
       "              NC_011353  NC_013008  NC_017906  ...  ESC_PA2010AA_AS  \\\n",
       "Strain                                         ...                    \n",
       "Lineage               1          1          1  ...               51   \n",
       "group_5501            0          0          0  ...                0   \n",
       "group_4783            0          0          0  ...                0   \n",
       "group_4456            0          0          0  ...                0   \n",
       "group_6055            0          0          0  ...                0   \n",
       "...                 ...        ...        ...  ...              ...   \n",
       "group_2149_7          0          0          0  ...                0   \n",
       "group_2067_4          0          0          0  ...                0   \n",
       "group_2068_8          0          0          0  ...                0   \n",
       "group_2069_3          0          0          0  ...                0   \n",
       "group_2071_4          0          0          0  ...                0   \n",
       "\n",
       "              ESC_PA2013AA_AS  ESC_PA2014AA_AS  ESC_PA2016AA_AS  \\\n",
       "Strain                                                            \n",
       "Lineage                    51               51               51   \n",
       "group_5501                  0                0                0   \n",
       "group_4783                  0                0                0   \n",
       "group_4456                  0                0                0   \n",
       "group_6055                  0                0                0   \n",
       "...                       ...              ...              ...   \n",
       "group_2149_7                0                0                0   \n",
       "group_2067_4                0                0                0   \n",
       "group_2068_8                0                0                0   \n",
       "group_2069_3                0                0                0   \n",
       "group_2071_4                0                0                0   \n",
       "\n",
       "              ESC_PA2019AA_AS  ESC_PA2021AA_AS  ESC_PA2023AA_AS  \\\n",
       "Strain                                                            \n",
       "Lineage                    51               51               51   \n",
       "group_5501                  0                0                0   \n",
       "group_4783                  0                0                0   \n",
       "group_4456                  0                0                0   \n",
       "group_6055                  0                0                0   \n",
       "...                       ...              ...              ...   \n",
       "group_2149_7                0                0                0   \n",
       "group_2067_4                0                0                0   \n",
       "group_2068_8                0                0                0   \n",
       "group_2069_3                0                0                0   \n",
       "group_2071_4                0                0                0   \n",
       "\n",
       "              ESC_PA2315AA_AS  ESC_RA2551AA_AS  ESC_RA2561AA_AS  \n",
       "Strain                                                           \n",
       "Lineage                    51               51               51  \n",
       "group_5501                  0                0                0  \n",
       "group_4783                  0                0                0  \n",
       "group_4456                  0                0                0  \n",
       "group_6055                  0                0                0  \n",
       "...                       ...              ...              ...  \n",
       "group_2149_7                0                0                0  \n",
       "group_2067_4                0                0                0  \n",
       "group_2068_8                0                0                0  \n",
       "group_2069_3                0                0                0  \n",
       "group_2071_4                0                0                0  \n",
       "\n",
       "[55040 rows x 7512 columns]"
      ]
     },
     "execution_count": 5,
     "metadata": {},
     "output_type": "execute_result"
    }
   ],
   "source": [
    "large_data"
   ]
  },
  {
   "cell_type": "code",
   "execution_count": 6,
   "metadata": {},
   "outputs": [
    {
     "data": {
      "text/plain": [
       "Strain\n",
       "group_569           1\n",
       "group_4401_2        1\n",
       "group_5102          1\n",
       "group_5100_2        1\n",
       "group_5099_3        1\n",
       "                ...  \n",
       "hldD             7512\n",
       "group_4462_2     7512\n",
       "grxC             7512\n",
       "diaA             7512\n",
       "Lineage         55565\n",
       "Length: 55040, dtype: int64"
      ]
     },
     "execution_count": 6,
     "metadata": {},
     "output_type": "execute_result"
    }
   ],
   "source": [
    "large_data.sum(axis=1).sort_values()"
   ]
  },
  {
   "cell_type": "code",
   "execution_count": 7,
   "metadata": {},
   "outputs": [
    {
     "data": {
      "text/plain": [
       "10"
      ]
     },
     "execution_count": 7,
     "metadata": {},
     "output_type": "execute_result"
    }
   ],
   "source": [
    "sum(large_data.sum(axis=0) < 4000)"
   ]
  },
  {
   "cell_type": "code",
   "execution_count": 8,
   "metadata": {},
   "outputs": [],
   "source": [
    "phylogroup_data = pd.read_csv(TEN_K_DATASET_PHYLOGROUPS, index_col=[0], header=[0])"
   ]
  },
  {
   "cell_type": "code",
   "execution_count": 9,
   "metadata": {},
   "outputs": [
    {
     "data": {
      "text/html": [
       "<div>\n",
       "<style scoped>\n",
       "    .dataframe tbody tr th:only-of-type {\n",
       "        vertical-align: middle;\n",
       "    }\n",
       "\n",
       "    .dataframe tbody tr th {\n",
       "        vertical-align: top;\n",
       "    }\n",
       "\n",
       "    .dataframe thead th {\n",
       "        text-align: right;\n",
       "    }\n",
       "</style>\n",
       "<table border=\"1\" class=\"dataframe\">\n",
       "  <thead>\n",
       "    <tr style=\"text-align: right;\">\n",
       "      <th></th>\n",
       "      <th>Phylogroup</th>\n",
       "    </tr>\n",
       "    <tr>\n",
       "      <th>ID</th>\n",
       "      <th></th>\n",
       "    </tr>\n",
       "  </thead>\n",
       "  <tbody>\n",
       "    <tr>\n",
       "      <th>ESC_CA4458AA_AS</th>\n",
       "      <td>E</td>\n",
       "    </tr>\n",
       "    <tr>\n",
       "      <th>ESC_CA5810AA_AS</th>\n",
       "      <td>E</td>\n",
       "    </tr>\n",
       "    <tr>\n",
       "      <th>11657_7#79</th>\n",
       "      <td>B2</td>\n",
       "    </tr>\n",
       "    <tr>\n",
       "      <th>ESC_SA7073AA_AS</th>\n",
       "      <td>B1</td>\n",
       "    </tr>\n",
       "    <tr>\n",
       "      <th>SRS3528668</th>\n",
       "      <td>Not Determined</td>\n",
       "    </tr>\n",
       "    <tr>\n",
       "      <th>...</th>\n",
       "      <td>...</td>\n",
       "    </tr>\n",
       "    <tr>\n",
       "      <th>39111_C02</th>\n",
       "      <td>Not determined</td>\n",
       "    </tr>\n",
       "    <tr>\n",
       "      <th>ESC_SA2343AA_AS</th>\n",
       "      <td>E</td>\n",
       "    </tr>\n",
       "    <tr>\n",
       "      <th>ESC_SA2344AA_AS</th>\n",
       "      <td>E</td>\n",
       "    </tr>\n",
       "    <tr>\n",
       "      <th>ESC_SA2342AA_AS</th>\n",
       "      <td>E</td>\n",
       "    </tr>\n",
       "    <tr>\n",
       "      <th>SRS3528835</th>\n",
       "      <td>Not Determined</td>\n",
       "    </tr>\n",
       "  </tbody>\n",
       "</table>\n",
       "<p>10146 rows × 1 columns</p>\n",
       "</div>"
      ],
      "text/plain": [
       "                     Phylogroup\n",
       "ID                             \n",
       "ESC_CA4458AA_AS               E\n",
       "ESC_CA5810AA_AS               E\n",
       "11657_7#79                   B2\n",
       "ESC_SA7073AA_AS              B1\n",
       "SRS3528668       Not Determined\n",
       "...                         ...\n",
       "39111_C02        Not determined\n",
       "ESC_SA2343AA_AS               E\n",
       "ESC_SA2344AA_AS               E\n",
       "ESC_SA2342AA_AS               E\n",
       "SRS3528835       Not Determined\n",
       "\n",
       "[10146 rows x 1 columns]"
      ]
     },
     "execution_count": 9,
     "metadata": {},
     "output_type": "execute_result"
    }
   ],
   "source": [
    "phylogroup_data"
   ]
  },
  {
   "cell_type": "code",
   "execution_count": 10,
   "metadata": {},
   "outputs": [
    {
     "data": {
      "text/plain": [
       "Phylogroup    \n",
       "E                 3428\n",
       "B2                2311\n",
       "Not Determined    1708\n",
       "B1                1535\n",
       "D                  345\n",
       "A                  335\n",
       "Not determined     232\n",
       "F                  157\n",
       "Shigella            67\n",
       "C                   28\n",
       "Name: count, dtype: int64"
      ]
     },
     "execution_count": 10,
     "metadata": {},
     "output_type": "execute_result"
    }
   ],
   "source": [
    "phylogroup_data.value_counts()"
   ]
  },
  {
   "cell_type": "code",
   "execution_count": 11,
   "metadata": {},
   "outputs": [
    {
     "name": "stdout",
     "output_type": "stream",
     "text": [
      "Dataset shape: (7512, 55039)\n"
     ]
    }
   ],
   "source": [
    "data_without_lineage = large_data.drop(index=['Lineage'])\n",
    "large_data_t = np.array(data_without_lineage.transpose())\n",
    "\n",
    "print(f\"Dataset shape: {large_data_t.shape}\")\n"
   ]
  },
  {
   "cell_type": "code",
   "execution_count": 12,
   "metadata": {},
   "outputs": [],
   "source": [
    "threshold_data = []\n",
    "thresholds = np.linspace(0, 50, num=50)\n",
    "data_without_lineage = large_data.drop(index=['Lineage'])\n",
    "\n",
    "for i in thresholds:\n",
    "    row_sums = data_without_lineage.sum(axis=1)\n",
    "    threshold_data.append(len(data_without_lineage[row_sums >= i]))\n"
   ]
  },
  {
   "cell_type": "code",
   "execution_count": 13,
   "metadata": {},
   "outputs": [
    {
     "data": {
      "text/plain": [
       "[55039,\n",
       " 39817,\n",
       " 34175,\n",
       " 31251,\n",
       " 29493,\n",
       " 28022,\n",
       " 26984,\n",
       " 26150,\n",
       " 25329,\n",
       " 24655,\n",
       " 23910,\n",
       " 23405,\n",
       " 23055,\n",
       " 22662,\n",
       " 22335,\n",
       " 22042,\n",
       " 21711,\n",
       " 21396,\n",
       " 21133,\n",
       " 20878,\n",
       " 20538,\n",
       " 20274,\n",
       " 19950,\n",
       " 19661,\n",
       " 19396,\n",
       " 19047,\n",
       " 18595,\n",
       " 18291,\n",
       " 18111,\n",
       " 17957,\n",
       " 17835,\n",
       " 17722,\n",
       " 17594,\n",
       " 17461,\n",
       " 17326,\n",
       " 17186,\n",
       " 16983,\n",
       " 16857,\n",
       " 16742,\n",
       " 16609,\n",
       " 16420,\n",
       " 16044,\n",
       " 15885,\n",
       " 15772,\n",
       " 15681,\n",
       " 15576,\n",
       " 15439,\n",
       " 15336,\n",
       " 15223,\n",
       " 15120]"
      ]
     },
     "execution_count": 13,
     "metadata": {},
     "output_type": "execute_result"
    }
   ],
   "source": [
    "threshold_data"
   ]
  },
  {
   "cell_type": "code",
   "execution_count": 14,
   "metadata": {},
   "outputs": [
    {
     "data": {
      "image/png": "[encoded data removed]",
      "text/plain": [
       "<Figure size 1000x800 with 1 Axes>"
      ]
     },
     "metadata": {},
     "output_type": "display_data"
    }
   ],
   "source": [
    "plt.figure(figsize=(10,8))\n",
    "plt.scatter(thresholds, threshold_data, color='darkorchid')\n",
    "plt.plot(thresholds, threshold_data, color='darkorchid')\n",
    "plt.xlabel(\"Gene Number Thershold\")\n",
    "plt.ylabel(\"Gene Frequency\")\n",
    "plt.savefig(\"/Users/anastasiiashcherbakova/git_projects/masters_project/figures/gene_frequency_final.pdf\", format=\"pdf\", bbox_inches=\"tight\")\n",
    "plt.show()"
   ]
  },
  {
   "cell_type": "code",
   "execution_count": 15,
   "metadata": {},
   "outputs": [],
   "source": [
    "# large_data[row_sums >= 2]\n"
   ]
  },
  {
   "cell_type": "code",
   "execution_count": 21,
   "metadata": {},
   "outputs": [],
   "source": [
    "frequency1 = data_without_lineage.sum(axis=1)\n",
    "mean = np.mean(frequency1)\n",
    "median = np.median(frequency1)\n",
    "min_value = np.min(frequency1)\n",
    "max_value = np.max(frequency1)"
   ]
  },
  {
   "cell_type": "code",
   "execution_count": 22,
   "metadata": {},
   "outputs": [],
   "source": [
    "# data_without_lineage.sum(axis=1)"
   ]
  },
  {
   "cell_type": "code",
   "execution_count": 23,
   "metadata": {},
   "outputs": [
    {
     "data": {
      "image/png": "[encoded data removed]",
      "text/plain": [
       "<Figure size 1000x800 with 1 Axes>"
      ]
     },
     "metadata": {},
     "output_type": "display_data"
    }
   ],
   "source": [
    "plt.figure(figsize=(10,8))\n",
    "plt.hist(frequency1, color='darkorchid', bins=10)\n",
    "# plt.scatter(frequency1[0], frequency1[1], color='darkorchid')\n",
    "plt.xlim(0, 8000)\n",
    "plt.xlabel('Gene count')\n",
    "plt.ylabel('Frequency')\n",
    "plt.axvline(mean, color='r', linestyle='dashed', linewidth=2, label=f'Mean: {mean:.2f}')\n",
    "plt.axvline(median, color='b', linestyle='dashed', linewidth=2, label=f'Median: {median:.2f}')\n",
    "dummy_min = plt.Line2D([], [], color='black',  linewidth=2, label=f'Min: {min_value:.2f}')\n",
    "dummy_max = plt.Line2D([], [], color='black', linewidth=2, label=f'Max: {max_value:.2f}')\n",
    "\n",
    "handles = [plt.Line2D([], [], color='r', linestyle='dashed', linewidth=2, label=f'Mean: {mean:.2f}'),\n",
    "        plt.Line2D([], [], color='b', linestyle='dashed', linewidth=2, label=f'Median: {median:.2f}'),\n",
    "        dummy_min, dummy_max]\n",
    "plt.legend(handles=handles)\n",
    "plt.savefig(\"/Users/anastasiiashcherbakova/git_projects/masters_project/figures/gene_count_final.pdf\", format=\"pdf\", bbox_inches=\"tight\")\n",
    "plt.show()"
   ]
  },
  {
   "cell_type": "code",
   "execution_count": 19,
   "metadata": {},
   "outputs": [],
   "source": [
    "frequency2 = data_without_lineage.sum(axis=0)\n",
    "mean = np.mean(frequency2)\n",
    "median = np.median(frequency2)\n",
    "min_value = np.min(frequency2)\n",
    "max_value = np.max(frequency2)"
   ]
  },
  {
   "cell_type": "code",
   "execution_count": 20,
   "metadata": {},
   "outputs": [
    {
     "data": {
      "image/png": "[encoded data removed]",
      "text/plain": [
       "<Figure size 1000x800 with 1 Axes>"
      ]
     },
     "metadata": {},
     "output_type": "display_data"
    }
   ],
   "source": [
    "plt.figure(figsize=(10,8))\n",
    "plt.hist(frequency2, bins=20, color='darkorchid')\n",
    "plt.xlabel('Genome size')\n",
    "plt.ylabel('Frequency')\n",
    "plt.axvline(mean, color='r', linestyle='dashed', linewidth=2, label=f'Mean: {mean:.2f}')\n",
    "plt.axvline(median, color='b', linestyle='dashed', linewidth=2, label=f'Median: {median:.2f}')\n",
    "dummy_min = plt.Line2D([], [], color='black',  linewidth=2, label=f'Min: {min_value:.2f}')\n",
    "dummy_max = plt.Line2D([], [], color='black', linewidth=2, label=f'Max: {max_value:.2f}')\n",
    "\n",
    "handles = [plt.Line2D([], [], color='r', linestyle='dashed', linewidth=2, label=f'Mean: {mean:.2f}'),\n",
    "        plt.Line2D([], [], color='b', linestyle='dashed', linewidth=2, label=f'Median: {median:.2f}'),\n",
    "        dummy_min, dummy_max]\n",
    "plt.legend(handles=handles)\n",
    "plt.savefig(\"/Users/anastasiiashcherbakova/git_projects/masters_project/figures/genome_size_final.pdf\", format=\"pdf\", bbox_inches=\"tight\")\n",
    "plt.show()"
   ]
  },
  {
   "cell_type": "code",
   "execution_count": null,
   "metadata": {},
   "outputs": [],
   "source": [
    "large_data.sum(0).min()"
   ]
  },
  {
   "cell_type": "markdown",
   "metadata": {},
   "source": [
    "## 1.2) PCA"
   ]
  },
  {
   "cell_type": "code",
   "execution_count": null,
   "metadata": {},
   "outputs": [],
   "source": [
    "# left join (number of samples stays the same but there are 1.5k damples with undetermined phylogroup)\n",
    "# merged_df = data_without_lineage.transpose().merge(phylogroup_data, how='left', left_index=True, right_index=True)\n",
    "# inner join (cuts down the number fo samples because overlooks the ones which do not have phylogroup determined)\n",
    "merged_df = pd.merge(data_without_lineage.transpose(), phylogroup_data, how='inner', left_index=True, right_on='ID')"
   ]
  },
  {
   "cell_type": "code",
   "execution_count": null,
   "metadata": {},
   "outputs": [],
   "source": [
    "merged_df"
   ]
  },
  {
   "cell_type": "code",
   "execution_count": null,
   "metadata": {},
   "outputs": [],
   "source": [
    "merged_df.shape # Why does it decrease by so much? (inner join but still...)"
   ]
  },
  {
   "cell_type": "code",
   "execution_count": null,
   "metadata": {},
   "outputs": [],
   "source": [
    "merged_df.iloc[:, :-1]"
   ]
  },
  {
   "cell_type": "code",
   "execution_count": null,
   "metadata": {},
   "outputs": [],
   "source": [
    "merged_df['Phylogroup'] = merged_df['Phylogroup'].fillna('Not determined')"
   ]
  },
  {
   "cell_type": "code",
   "execution_count": null,
   "metadata": {},
   "outputs": [],
   "source": [
    "merged_df['Phylogroup'].value_counts()"
   ]
  },
  {
   "cell_type": "code",
   "execution_count": null,
   "metadata": {},
   "outputs": [],
   "source": [
    "# sum(merged_df.index == 'esc_pa2010aa_as')\n"
   ]
  },
  {
   "cell_type": "code",
   "execution_count": null,
   "metadata": {},
   "outputs": [],
   "source": [
    "pca = PCA(n_components=2)\n",
    "data_pca = pca.fit_transform(merged_df.iloc[:, :-1])\n",
    "df_pca = pd.DataFrame(data_pca, columns=['PC1', 'PC2'])\n",
    "\n",
    "plt.figure(figsize=(10, 10))\n",
    "sns.scatterplot(x='PC1', y='PC2', hue = merged_df.Phylogroup.tolist(), data=df_pca)\n",
    "# plt.savefig(\"figures/PCA_graph_BD_Phylogroup.pdf\", format=\"pdf\", bbox_inches=\"tight\")\n",
    "plt.show()"
   ]
  },
  {
   "cell_type": "markdown",
   "metadata": {},
   "source": [
    "# 2) Data preprocessing"
   ]
  },
  {
   "cell_type": "markdown",
   "metadata": {},
   "source": [
    "## 2.1) Dataset preprocessing "
   ]
  },
  {
   "cell_type": "code",
   "execution_count": null,
   "metadata": {},
   "outputs": [],
   "source": [
    "# data_without_lineage = large_data.drop(index=['Lineage'])\n",
    "# merged_df = pd.merge(data_without_lineage.transpose(), phylogroup_data, how='inner', left_index=True, right_on='ID')\n"
   ]
  },
  {
   "cell_type": "code",
   "execution_count": null,
   "metadata": {},
   "outputs": [],
   "source": [
    "# merged_df['Phylogroup'].value_counts()"
   ]
  },
  {
   "cell_type": "code",
   "execution_count": null,
   "metadata": {},
   "outputs": [],
   "source": [
    "indices_df1 = set(data_without_lineage.transpose().index)\n",
    "indices_df2 = set(phylogroup_data.index)\n",
    "\n",
    "# Find common indices\n",
    "common_indices = list(indices_df1.intersection(indices_df2))"
   ]
  },
  {
   "cell_type": "code",
   "execution_count": null,
   "metadata": {},
   "outputs": [],
   "source": [
    "len(common_indices)"
   ]
  },
  {
   "cell_type": "code",
   "execution_count": null,
   "metadata": {},
   "outputs": [],
   "source": [
    "# merged_df"
   ]
  },
  {
   "cell_type": "code",
   "execution_count": null,
   "metadata": {},
   "outputs": [],
   "source": [
    "# merged_df['Phylogroup'].value_counts()"
   ]
  },
  {
   "cell_type": "code",
   "execution_count": null,
   "metadata": {},
   "outputs": [],
   "source": [
    "data_array_t = np.array(merged_df.iloc[:, :-1])\n",
    "phylogroups_array = np.array(merged_df.iloc[:, -1])"
   ]
  },
  {
   "cell_type": "code",
   "execution_count": null,
   "metadata": {},
   "outputs": [],
   "source": [
    "data_array_t.sum(axis=1).min()"
   ]
  },
  {
   "cell_type": "code",
   "execution_count": null,
   "metadata": {},
   "outputs": [],
   "source": [
    "data_array_t.shape"
   ]
  },
  {
   "cell_type": "code",
   "execution_count": null,
   "metadata": {},
   "outputs": [],
   "source": [
    "phylogroups_array.shape"
   ]
  },
  {
   "cell_type": "markdown",
   "metadata": {},
   "source": [
    "## 2.2) Conversing the dataset into splits and dataloaders"
   ]
  },
  {
   "cell_type": "code",
   "execution_count": null,
   "metadata": {},
   "outputs": [],
   "source": [
    "data_array_t"
   ]
  },
  {
   "cell_type": "code",
   "execution_count": null,
   "metadata": {},
   "outputs": [],
   "source": [
    "phylogroups_array"
   ]
  },
  {
   "cell_type": "code",
   "execution_count": null,
   "metadata": {},
   "outputs": [],
   "source": [
    "# Convert to PyTorch tensor\n",
    "data_tensor = torch.tensor(data_array_t, dtype=torch.float32)\n",
    "\n",
    "# Split into train and test sets\n",
    "train_data, temp_data, train_labels, temp_labels = train_test_split(data_tensor, phylogroups_array, test_size=0.3, random_state=12345)\n",
    "val_data, test_data, val_labels, test_labels = train_test_split(temp_data, temp_labels, test_size=0.3333, random_state=12345)\n",
    "test_phylogroups = test_labels\n",
    "\n",
    "batch_size = 32\n",
    "\n",
    "# TensorDataset\n",
    "train_dataset = TensorDataset(train_data)\n",
    "val_dataset = TensorDataset(val_data)\n",
    "test_dataset = TensorDataset(test_data)\n",
    "\n",
    "test_loader = DataLoader(test_dataset, batch_size=batch_size, shuffle=False)\n",
    "train_loader = DataLoader(train_dataset, batch_size=batch_size, shuffle=False)\n",
    "\n",
    "# Dataloader for overfitting on one sample (for dubbiging purposes)\n",
    "input_dim = data_array_t.shape[1]\n",
    "binary_data = torch.tensor(np.random.randint(0, 2, size=(1, input_dim)), dtype=torch.float32)\n",
    "single_sample_dataset = TensorDataset(binary_data)\n",
    "single_sample_loader = DataLoader(single_sample_dataset, batch_size=1, shuffle=True)\n",
    "\n",
    "# Dataloader fot a small subset for overfitting (again, for debugging)\n",
    "small_subset_indices = np.random.choice(len(train_dataset), size=256, replace=False)\n",
    "small_subset = Subset(train_dataset, small_subset_indices)\n",
    "small_loader = DataLoader(small_subset, batch_size=batch_size, shuffle=True)\n"
   ]
  },
  {
   "cell_type": "code",
   "execution_count": null,
   "metadata": {},
   "outputs": [],
   "source": [
    "test_data.shape"
   ]
  },
  {
   "cell_type": "code",
   "execution_count": null,
   "metadata": {},
   "outputs": [],
   "source": [
    "genome_sizes = np.array(test_data.sum(axis=1))"
   ]
  },
  {
   "cell_type": "code",
   "execution_count": null,
   "metadata": {},
   "outputs": [],
   "source": [
    "genome_sizes"
   ]
  },
  {
   "cell_type": "code",
   "execution_count": null,
   "metadata": {},
   "outputs": [],
   "source": [
    "len(test_data.sum(axis=1))"
   ]
  },
  {
   "cell_type": "markdown",
   "metadata": {},
   "source": [
    "# 3) Testing the model on one sample "
   ]
  },
  {
   "cell_type": "code",
   "execution_count": null,
   "metadata": {},
   "outputs": [],
   "source": [
    "# binary_data.type()"
   ]
  },
  {
   "cell_type": "code",
   "execution_count": null,
   "metadata": {},
   "outputs": [],
   "source": [
    "# print(binary_data)"
   ]
  },
  {
   "cell_type": "code",
   "execution_count": null,
   "metadata": {},
   "outputs": [],
   "source": [
    "# input_dim"
   ]
  },
  {
   "cell_type": "code",
   "execution_count": null,
   "metadata": {},
   "outputs": [],
   "source": [
    "# binary_data.shape"
   ]
  },
  {
   "cell_type": "code",
   "execution_count": null,
   "metadata": {},
   "outputs": [],
   "source": [
    "# # NO GRADIENT CLIPPING AND SCHEDULER \n",
    "# hidden_dim = 512\n",
    "# latent_dim = 64\n",
    "# beta_start = 0.1\n",
    "# beta_end = 1.0\n",
    "# n_epochs = 10\n",
    "# input_dim = data_array_t.shape[1]\n",
    "\n",
    "# # Loading the model\n",
    "# model = VAE_single(input_dim, hidden_dim, latent_dim)\n",
    "\n",
    "# # model = VAE_single(input_dim, hidden_dim, latent_dim)\n",
    "# optimizer = torch.optim.Adam(model.parameters(), lr=1e-3)\n",
    "\n",
    "# # Overfitting one sample to see if the model is broken \n",
    "# num_epochs = 100\n",
    "\n",
    "# # Collecting data for visualisation \n",
    "# train_loss_vals1 = []\n",
    "# train_loss_vals2 = []\n",
    "# kl_divergences_no_beta = []\n",
    "# kl_divergences_beta = []\n",
    "\n",
    "# model.train()\n",
    "\n",
    "# for epoch in range(num_epochs):\n",
    "#     beta = beta_start + (beta_end - beta_start) * epoch / n_epochs\n",
    "#     epoch_kl_divergence = 0\n",
    "#     epoch_kl_divergence_beta = 0 \n",
    "    \n",
    "#     for data in single_sample_loader:\n",
    "#         data = data[0].to(torch.float)\n",
    "#         # print(data)\n",
    "        \n",
    "#         optimizer.zero_grad()\n",
    "#         reconstruction, mu, logvar = model(data)\n",
    "        \n",
    "#         reconstruction_loss = nn.functional.binary_cross_entropy(reconstruction, data, reduction='sum')\n",
    "#         # print(reconstruction_loss.item())\n",
    "        \n",
    "#         kl_divergence_loss = -0.5 * torch.sum(1 + logvar - mu.pow(2) - logvar.exp())\n",
    "#         kl_divergence_loss_beta = beta * kl_divergence_loss\n",
    "#         epoch_kl_divergence += kl_divergence_loss.item()\n",
    "#         epoch_kl_divergence_beta += kl_divergence_loss_beta.item()\n",
    "        \n",
    "#         # Total loss\n",
    "#         loss = reconstruction_loss + kl_divergence_loss\n",
    "#         loss2 = reconstruction_loss + kl_divergence_loss_beta\n",
    "        \n",
    "#         # Backpropagation\n",
    "#         loss.backward()\n",
    "#         optimizer.step()   \n",
    "\n",
    "#     if epoch % 100 == 0:\n",
    "#         print(f\"Epoch {epoch}\\nLoss (method1) = {loss.item()}\\nLoss (method2) = {loss2.item()}\")\n",
    "#         print(\"----------------------------------\")\n",
    "\n",
    "#     train_loss_vals1.append(loss.item())\n",
    "#     train_loss_vals2.append(loss2.item())\n",
    "\n",
    "#     kl_divergences_no_beta.append(epoch_kl_divergence / len(single_sample_loader.dataset))\n",
    "#     kl_divergences_beta.append(epoch_kl_divergence_beta / len(single_sample_loader.dataset))\n",
    "\n",
    "# print(f\"Final Loss after {num_epochs} epochs: {loss.item()}\")"
   ]
  },
  {
   "cell_type": "code",
   "execution_count": null,
   "metadata": {},
   "outputs": [],
   "source": [
    "# torch.save(model.state_dict(), \"models/saved_single_sample_VAE_BD.pt\")\n",
    "# print(\"Model saved.\")"
   ]
  },
  {
   "cell_type": "code",
   "execution_count": null,
   "metadata": {},
   "outputs": [],
   "source": [
    "# # Load trained model \n",
    "# model = VAE_single(input_dim, hidden_dim, latent_dim)\n",
    "# model.load_state_dict(torch.load('models/saved_single_sample_VAE_BD.pt'))  \n",
    "# model.eval()  \n",
    "\n",
    "# # Generate 10 new samples\n",
    "# num_samples = 10 \n",
    "# with torch.no_grad():\n",
    "#     z = torch.randn(num_samples, latent_dim)  # Sample from the standard normal distribution (????)\n",
    "#     generated_samples = model.decode(z).cpu().numpy() \n",
    "\n",
    "# threshold = 0.5\n",
    "# binary_generated_samples = (generated_samples > threshold).astype(float)\n",
    "\n",
    "# print(\"Generated samples:\\n\", binary_generated_samples)\n",
    "# print(\"Generated samples:\\n\", generated_samples)"
   ]
  },
  {
   "cell_type": "markdown",
   "metadata": {},
   "source": [
    "# 4) Testing the model on a bigger dataset (subset of train)"
   ]
  },
  {
   "cell_type": "code",
   "execution_count": null,
   "metadata": {},
   "outputs": [],
   "source": [
    "# # Model inputs\n",
    "# hidden_dim = 512\n",
    "# latent_dim = 64\n",
    "# beta_start = 0.1\n",
    "# beta_end = 1.0\n",
    "# n_epochs = 10\n",
    "# input_dim = data_array_t.shape[1]\n",
    "\n",
    "# # Loading the model\n",
    "# model = VAE(input_dim, hidden_dim, latent_dim)"
   ]
  },
  {
   "cell_type": "code",
   "execution_count": null,
   "metadata": {},
   "outputs": [],
   "source": [
    "# len(small_subset)"
   ]
  },
  {
   "cell_type": "code",
   "execution_count": null,
   "metadata": {},
   "outputs": [],
   "source": [
    "# train_data.shape"
   ]
  },
  {
   "cell_type": "code",
   "execution_count": null,
   "metadata": {},
   "outputs": [],
   "source": [
    "# val_data.shape"
   ]
  },
  {
   "cell_type": "code",
   "execution_count": null,
   "metadata": {},
   "outputs": [],
   "source": [
    "# input_dim"
   ]
  },
  {
   "cell_type": "code",
   "execution_count": null,
   "metadata": {},
   "outputs": [],
   "source": [
    "# input_dim = data_array_t.shape[1]\n",
    "# hidden_dim = 512\n",
    "# latent_dim = 64\n",
    "# beta_start = 0.1\n",
    "# beta_end = 1.0\n",
    "\n",
    "# model = VAE(input_dim, hidden_dim, latent_dim)\n",
    "# optimizer = torch.optim.Adam(model.parameters(), lr=1e-3)\n",
    "\n",
    "# model.train()\n",
    "# num_epochs = 100\n",
    "\n",
    "# # train_loss_vals1 = []\n",
    "# train_loss_vals2 = []\n",
    "# # kl_divergences_no_beta = []\n",
    "# kl_divergences_beta = []\n",
    "\n",
    "# for epoch in range(num_epochs):\n",
    "#     beta = beta_start + (beta_end - beta_start) * epoch / num_epochs\n",
    "#     epoch_kl_divergence_beta = 0\n",
    "#     for data in small_loader:\n",
    "#         data = data[0].to(torch.float)\n",
    "#         # print(data)\n",
    "    \n",
    "#         optimizer.zero_grad()\n",
    "#         reconstruction, mu, logvar = model(data)\n",
    "        \n",
    "#         reconstruction_loss = nn.functional.binary_cross_entropy(reconstruction, data, reduction='sum')\n",
    "#         # print(reconstruction_loss.item())\n",
    "\n",
    "#         kl_divergence_loss = -0.5 * torch.sum(1 + logvar - mu.pow(2) - logvar.exp())\n",
    "#         kl_divergence_loss_beta = beta * kl_divergence_loss\n",
    "#         # epoch_kl_divergence += kl_divergence_loss.item()\n",
    "#         epoch_kl_divergence_beta += kl_divergence_loss_beta.item()\n",
    "        \n",
    "#         # Total loss\n",
    "#         # loss = reconstruction_loss + kl_divergence_loss\n",
    "#         loss2 = reconstruction_loss + kl_divergence_loss_beta\n",
    "        \n",
    "#         loss2.backward()\n",
    "#         optimizer.step()   \n",
    "\n",
    "#     if epoch % 100 == 0:\n",
    "#         print(f\"Epoch {epoch}\\nLoss (method 2) = {loss2.item()}\")\n",
    "#         print(\"----------------------------------\")\n",
    "\n",
    "#     # train_loss_vals1.append(loss.item())\n",
    "#     train_loss_vals2.append(loss2.item())\n",
    "\n",
    "#     # kl_divergences_no_beta.append(epoch_kl_divergence / len(small_loader.dataset))\n",
    "#     kl_divergences_beta.append(epoch_kl_divergence_beta / len(small_loader.dataset))\n",
    "\n",
    "# print(f\"Final Loss after {num_epochs} epochs: {loss2.item()}\")"
   ]
  },
  {
   "cell_type": "code",
   "execution_count": null,
   "metadata": {},
   "outputs": [],
   "source": [
    "# torch.save(model.state_dict(), \"models/saved_small_VAE1_BD.pt\")\n",
    "# print(\"Model saved.\")"
   ]
  },
  {
   "cell_type": "markdown",
   "metadata": {},
   "source": [
    "# 5) Training of full dataset (train_full_dataset.py script on the CS account)"
   ]
  },
  {
   "cell_type": "markdown",
   "metadata": {},
   "source": [
    "## 5.1) Full dataset (after hyperparameter tuning)"
   ]
  },
  {
   "cell_type": "code",
   "execution_count": null,
   "metadata": {},
   "outputs": [],
   "source": [
    "hidden_dim = 1024\n",
    "latent_dim = 64\n",
    "input_dim = data_array_t.shape[1]\n",
    "\n",
    "model = VAE_2(input_dim, hidden_dim, latent_dim)\n",
    "model.load_state_dict(torch.load('/Users/anastasiiashcherbakova/Desktop/2_bigdataset/7_all_genes_new_params/saved_KL_annealing_VAE_BD_100_AHPT.pt', map_location=torch.device('cpu')))  "
   ]
  },
  {
   "cell_type": "code",
   "execution_count": null,
   "metadata": {},
   "outputs": [],
   "source": [
    "latents = get_latent_variables(model, test_loader, device)\n",
    "pca = PCA(n_components=3)\n",
    "data_pca = pca.fit_transform(latents)\n",
    "df_pca = pd.DataFrame(data_pca, columns=['PC1', 'PC2', 'PC3'])\n",
    "df_pca['phylogroup'] = test_phylogroups\n",
    "\n",
    "fig, axes = plt.subplots(1, 2, figsize=(20, 10))\n",
    "# plt.figure(figsize=(10, 10))\n",
    "sns.scatterplot(x='PC1', y='PC2', hue = df_pca['phylogroup'], data=df_pca, ax=axes[0])\n",
    "sns.scatterplot(x='PC2', y='PC3', hue = df_pca['phylogroup'], data=df_pca, ax=axes[1])\n",
    "# plt.savefig(\"figures/pca_latent_space_full_dataset.pdf\", format=\"pdf\", bbox_inches=\"tight\")\n",
    "plt.show()"
   ]
  },
  {
   "cell_type": "code",
   "execution_count": null,
   "metadata": {},
   "outputs": [],
   "source": [
    "for name, module in model.named_children():\n",
    "    print(name)\n",
    "    print(module)\n",
    "    print(\"-------------------\")"
   ]
  },
  {
   "cell_type": "code",
   "execution_count": null,
   "metadata": {},
   "outputs": [],
   "source": [
    "model.eval()\n",
    "all_recon_x = []\n",
    "all_test_data = []\n",
    "\n",
    "# Ploting the data into batches\n",
    "with torch.no_grad():\n",
    "    for batch in test_loader:\n",
    "        batch_data = batch[0].to(device)\n",
    "        recon_x, mu, logvar = model(batch_data)\n",
    "        all_recon_x.append(recon_x.to(device))\n",
    "        all_test_data.append(batch_data.to(device))\n",
    "\n",
    "all_recon_x = torch.cat(all_recon_x)\n",
    "all_test_data = torch.cat(all_test_data)\n",
    "\n",
    "# Setting thershold \n",
    "recon_x_binarized = (all_recon_x > 0.5).int()\n",
    "\n",
    "all_test_data_np = all_test_data.cpu().numpy().flatten()\n",
    "recon_x_binarized_np = recon_x_binarized.cpu().numpy().flatten()\n",
    "\n",
    "f1 = sklearn.metrics.f1_score(all_test_data_np, recon_x_binarized_np)\n",
    "print(f'F1 Score: {f1:.2f}')"
   ]
  },
  {
   "cell_type": "code",
   "execution_count": null,
   "metadata": {},
   "outputs": [],
   "source": [
    "# Calcualting F1 score for each sample (comapring the target to reconstruction)\n",
    "f1_scores = []\n",
    "for genome_x, genome in zip(recon_x_binarized.cpu(), all_test_data.cpu().int()):\n",
    "    f1_scores.append(sklearn.metrics.f1_score(genome_x.numpy(), genome.numpy()))\n",
    "\n",
    "# Ploting a histogram of all calculated F1 scores \n",
    "plt.figure(figsize=(10,8))\n",
    "plt.hist(f1_scores, color='dodgerblue')\n",
    "plt.xlabel(\"F1 score\")\n",
    "plt.ylabel(\"Frequency\")\n",
    "# plt.savefig(\"figures/f1_score_frequency_test_set_100_full_dataset.pdf\", format=\"pdf\", bbox_inches=\"tight\")\n",
    "plt.show()"
   ]
  },
  {
   "cell_type": "code",
   "execution_count": null,
   "metadata": {},
   "outputs": [],
   "source": [
    "# Calcualting F1 score for each sample (comapring the target to reconstruction)\n",
    "accuracy_scores = []\n",
    "for genome_x, genome in zip(recon_x_binarized.cpu(), all_test_data.cpu().int()):\n",
    "    accuracy_scores.append(sklearn.metrics.accuracy_score(genome_x.numpy(), genome.numpy()))\n",
    "\n",
    "# Ploting a histogram of all calculated F1 scores \n",
    "plt.figure(figsize=(10,8))\n",
    "plt.hist(accuracy_scores, color='dodgerblue')\n",
    "plt.xlabel(\"Accuracy score\")\n",
    "plt.ylabel(\"Frequency\")\n",
    "# plt.savefig(\"figures/accuracy_score_frequency_test_set_100_full_dataset.pdf\", format=\"pdf\", bbox_inches=\"tight\")\n",
    "plt.show()"
   ]
  },
  {
   "cell_type": "code",
   "execution_count": null,
   "metadata": {},
   "outputs": [],
   "source": [
    "recon_x_binarized.shape"
   ]
  },
  {
   "cell_type": "code",
   "execution_count": null,
   "metadata": {},
   "outputs": [],
   "source": [
    "all_test_data.shape"
   ]
  },
  {
   "cell_type": "markdown",
   "metadata": {},
   "source": [
    "# 6) Exploring genes which had the highest number of inccorect predictions"
   ]
  },
  {
   "cell_type": "markdown",
   "metadata": {},
   "source": [
    "## 6.1) Findind out which genes have the most number of incorrect preditions + how many there are"
   ]
  },
  {
   "cell_type": "code",
   "execution_count": null,
   "metadata": {},
   "outputs": [],
   "source": [
    "accuracy_scores_per_gene = []\n",
    "\n",
    "num_genes = all_test_data.shape[1]\n",
    "for gene_idx in range(num_genes):\n",
    "    recontrustion = recon_x_binarized[:, gene_idx]\n",
    "    target = all_test_data[:, gene_idx]\n",
    "    accuracy_scores_per_gene.append(sklearn.metrics.accuracy_score(target, recontrustion))"
   ]
  },
  {
   "cell_type": "code",
   "execution_count": null,
   "metadata": {},
   "outputs": [],
   "source": [
    "# Ploting a histogram of all calculated F1 scores \n",
    "plt.figure(figsize=(10,8))\n",
    "plt.hist(accuracy_scores_per_gene, color='dodgerblue')\n",
    "plt.xlabel(\"Accuracy score\")\n",
    "plt.ylabel(\"Frequency\")\n",
    "# plt.savefig(\"figures/accuracy_score_frequency_test_set_100_full_dataset.pdf\", format=\"pdf\", bbox_inches=\"tight\")\n",
    "plt.show()"
   ]
  },
  {
   "cell_type": "code",
   "execution_count": null,
   "metadata": {},
   "outputs": [],
   "source": [
    "difference = np.array(recon_x_binarized) - np.array(all_test_data)\n",
    "mistake_counts = np.sum(difference!=0, axis=0)"
   ]
  },
  {
   "cell_type": "code",
   "execution_count": null,
   "metadata": {},
   "outputs": [],
   "source": [
    "plt.figure(figsize=(10,10))\n",
    "plt.scatter(mistake_counts, accuracy_scores_per_gene, color='dodgerblue')\n",
    "plt.ylabel('Mistakes')\n",
    "plt.xlabel('Accuracy score')\n",
    "# plt.savefig(\"/Users/anastasiiashcherbakova/git_projects/masters_project/figures/scatter_mistakes_and_accuracy.pdf\", format=\"pdf\", bbox_inches=\"tight\")"
   ]
  },
  {
   "cell_type": "code",
   "execution_count": null,
   "metadata": {},
   "outputs": [],
   "source": [
    "gene_abundance = all_test_data.sum(axis=0)"
   ]
  },
  {
   "cell_type": "code",
   "execution_count": null,
   "metadata": {},
   "outputs": [],
   "source": [
    "all_test_data.sum(axis=0)\n"
   ]
  },
  {
   "cell_type": "code",
   "execution_count": null,
   "metadata": {},
   "outputs": [],
   "source": [
    "plt.figure(figsize=(10,10))\n",
    "plt.scatter(accuracy_scores_per_gene, gene_abundance, color='dodgerblue')\n",
    "plt.ylabel('Abudance')\n",
    "plt.xlabel('Accuracy score')\n",
    "# plt.savefig(\"/Users/anastasiiashcherbakova/git_projects/masters_project/figures/scatter_final_gene_abundance_and_accuracy.pdf\", format=\"pdf\", bbox_inches=\"tight\")\n",
    "plt.show()"
   ]
  },
  {
   "cell_type": "code",
   "execution_count": null,
   "metadata": {},
   "outputs": [],
   "source": [
    "most_mistakes_column_index = np.argmax(mistake_counts)\n",
    "most_mistakes_count = mistake_counts[most_mistakes_column_index]"
   ]
  },
  {
   "cell_type": "code",
   "execution_count": null,
   "metadata": {},
   "outputs": [],
   "source": [
    "most_mistakes_column_index"
   ]
  },
  {
   "cell_type": "code",
   "execution_count": null,
   "metadata": {},
   "outputs": [],
   "source": [
    "most_mistakes_count"
   ]
  },
  {
   "cell_type": "code",
   "execution_count": null,
   "metadata": {},
   "outputs": [],
   "source": [
    "print(f\"Mistake counts per gene: {mistake_counts}\")\n",
    "print(f\"Column with the most mistakes: {most_mistakes_column_index} (Count: {most_mistakes_count})\")"
   ]
  },
  {
   "cell_type": "markdown",
   "metadata": {},
   "source": [
    "## 6.2) Plotting a figure of number of mistakes vs frequency"
   ]
  },
  {
   "cell_type": "code",
   "execution_count": null,
   "metadata": {},
   "outputs": [],
   "source": [
    "threshold_data = []\n",
    "thresholds = np.linspace(0, 200, num=200)\n",
    "\n",
    "for i in thresholds:\n",
    "    threshold_data.append(sum(mistake_counts >= i))"
   ]
  },
  {
   "cell_type": "code",
   "execution_count": null,
   "metadata": {},
   "outputs": [],
   "source": [
    "threshold_data"
   ]
  },
  {
   "cell_type": "code",
   "execution_count": null,
   "metadata": {},
   "outputs": [],
   "source": [
    "plt.figure(figsize=(10,8))\n",
    "plt.scatter(thresholds, threshold_data, color='dodgerblue')\n",
    "plt.plot(thresholds, threshold_data, color='dodgerblue')\n",
    "plt.xlabel(\"Misidentified count\")\n",
    "plt.ylabel(\"Frequency\")\n",
    "# plt.savefig('figures/mistakes_frequency.pdf', format=\"pdf\", bbox_inches=\"tight\")"
   ]
  },
  {
   "cell_type": "code",
   "execution_count": null,
   "metadata": {},
   "outputs": [],
   "source": [
    "plt.figure(figsize=(10,8))\n",
    "plt.scatter(thresholds, threshold_data, color='dodgerblue')\n",
    "plt.plot(thresholds, threshold_data, color='dodgerblue')\n",
    "plt.xlabel(\"Misidentified count\")\n",
    "plt.ylabel(\"Frequency\")\n",
    "plt.ylim(-1, 20)\n",
    "# plt.savefig('figures/mistakes_frequency_close_up.pdf', format=\"pdf\", bbox_inches=\"tight\")"
   ]
  },
  {
   "cell_type": "markdown",
   "metadata": {},
   "source": [
    "# 7) PCAs for dataset metadata (7 in total)"
   ]
  },
  {
   "cell_type": "markdown",
   "metadata": {},
   "source": [
    "## 7.1) PHylogroups and geneome size"
   ]
  },
  {
   "cell_type": "code",
   "execution_count": null,
   "metadata": {},
   "outputs": [],
   "source": [
    "latents = get_latent_variables(model, test_loader, device)\n",
    "pca = PCA(n_components=7)\n",
    "data_pca = pca.fit_transform(latents)\n",
    "\n",
    "num_plots = 6\n",
    "fig, axes = plt.subplots(2, 3, figsize=(20, 15))\n",
    "axes = axes.flatten()\n",
    "\n",
    "for i in range(num_plots+1):\n",
    "    if i == num_plots:\n",
    "        break\n",
    "    col1 = 'PC'+str(i+1)\n",
    "    col2 = 'PC'+str(i+2)\n",
    "    df_pca = pd.DataFrame(data_pca[:, i:i+2], columns=[col1, col2])\n",
    "    df_pca['Phylogroup'] = test_phylogroups\n",
    "\n",
    "    ax = axes[i]\n",
    "\n",
    "    # plt.figure(figsize=(10, 10))\n",
    "    sns.scatterplot(x=col1, y=col2, hue = df_pca['Phylogroup'], data=df_pca, ax=ax, legend=False)\n",
    "    if i == 0:\n",
    "            scatter = sns.scatterplot(x=col1, y=col2, hue=df_pca['Phylogroup'], data=df_pca, ax=ax, legend='brief')\n",
    "            handles, labels = ax.get_legend_handles_labels()\n",
    "            ax.get_legend().remove()\n",
    "\n",
    "fig.legend(handles, labels, loc='center right', title='Phylogroup')\n",
    "\n",
    "plt.tight_layout()\n",
    "plt.show()"
   ]
  },
  {
   "cell_type": "code",
   "execution_count": null,
   "metadata": {},
   "outputs": [],
   "source": [
    "latents = get_latent_variables(model, test_loader, device)\n",
    "pca = PCA(n_components=7)\n",
    "data_pca = pca.fit_transform(latents)\n",
    "\n",
    "num_plots = 6\n",
    "fig, axes = plt.subplots(2, 3, figsize=(20, 15))\n",
    "axes = axes.flatten()\n",
    "\n",
    "for i in range(num_plots+1):\n",
    "    if i == num_plots:\n",
    "        break\n",
    "    col1 = 'PC'+str(i+1)\n",
    "    col2 = 'PC'+str(i+2)\n",
    "    df_pca = pd.DataFrame(data_pca[:, i:i+2], columns=[col1, col2])\n",
    "    df_pca['Genome size'] = genome_sizes\n",
    "\n",
    "    ax = axes[i]\n",
    "\n",
    "    # plt.figure(figsize=(10, 10))\n",
    "    sns.scatterplot(x=col1, y=col2, hue = df_pca['Genome size'], data=df_pca, ax=ax, legend=False)\n",
    "    # plt.savefig('figures/pca_latent_space_genome_size_visualisation_BD_100_AHPT_7PCs.pdf', format=\"pdf\", bbox_inches=\"tight\")\n",
    "\n",
    "    if i == 0:\n",
    "            scatter = sns.scatterplot(x=col1, y=col2, hue=df_pca['Genome size'], data=df_pca, ax=ax, legend='brief')\n",
    "            handles, labels = ax.get_legend_handles_labels()\n",
    "            ax.get_legend().remove()\n",
    "\n",
    "fig.legend(handles, labels, loc='center right', title='Genome size')\n",
    "\n",
    "plt.tight_layout()\n",
    "plt.show()"
   ]
  },
  {
   "cell_type": "code",
   "execution_count": null,
   "metadata": {},
   "outputs": [],
   "source": [
    "metadata = pd.read_csv(TEN_K_DATASET_METADATA, index_col=[0], header=[0])"
   ]
  },
  {
   "cell_type": "code",
   "execution_count": null,
   "metadata": {},
   "outputs": [],
   "source": [
    "metadata"
   ]
  },
  {
   "cell_type": "code",
   "execution_count": null,
   "metadata": {},
   "outputs": [],
   "source": [
    "# merged_df_2"
   ]
  },
  {
   "cell_type": "code",
   "execution_count": null,
   "metadata": {},
   "outputs": [],
   "source": [
    "filtered_data_2 = pd.merge(data_without_lineage.transpose(), metadata, how='inner', left_index=True, right_on='ID')"
   ]
  },
  {
   "cell_type": "code",
   "execution_count": null,
   "metadata": {},
   "outputs": [],
   "source": [
    "filtered_data_2"
   ]
  },
  {
   "cell_type": "code",
   "execution_count": null,
   "metadata": {},
   "outputs": [],
   "source": [
    "filtered_data = filtered_data_2.copy()\n",
    "filtered_data['Source'] = filtered_data_2['Source'] \n",
    "filtered_data['Num_CDSs'] = pd.Series(filtered_data_2['Num_CDSs'], dtype='int64')\n",
    "filtered_data['Num_contigs'] = pd.Series(filtered_data_2['Num_contigs'], dtype='int64')\n",
    "filtered_data['MDR'] = filtered_data_2['MDR']\n",
    "filtered_data['Pathotype'] = filtered_data_2['Pathotype']\n",
    "filtered_data['Phylogroup'] = filtered_data_2['Phylogroup']\n"
   ]
  },
  {
   "cell_type": "code",
   "execution_count": null,
   "metadata": {},
   "outputs": [],
   "source": [
    "# Cleaning up the data\n",
    "filtered_data_2['Total_AMR_genes'] = pd.to_numeric(filtered_data_2['Total_AMR_genes'].replace({'?': None, 'Unknown': None}), errors='coerce').fillna(0).astype('int64')\n",
    "filtered_data_2['Total_virulence_genes'] = pd.to_numeric(filtered_data_2['Total_virulence_genes'].replace({'?': None, 'dfrA14_1_KF921535;sul1_2_U12338;blaKPC_2_1_AY034847;blaTEM_1B_1_AY458016;sul2_2_AY034138;ere_A__2_AF099140;mdf_A__1_Y08743;aac_6___IIc_1_NC_012555;blaSHV_12_1_KF976405;mph_A__1_D16251': None}), errors='coerce').fillna(0).astype('int64')\n",
    "\n",
    "\n",
    "filtered_data['Total_AMR_genes'] = pd.Series(filtered_data_2['Total_AMR_genes'], dtype='int64')\n",
    "filtered_data['Total_virulence_genes'] = pd.Series(filtered_data_2['Total_virulence_genes'], dtype='int64')"
   ]
  },
  {
   "cell_type": "code",
   "execution_count": null,
   "metadata": {},
   "outputs": [],
   "source": [
    "filtered_data.dtypes[7580:]"
   ]
  },
  {
   "cell_type": "code",
   "execution_count": null,
   "metadata": {},
   "outputs": [],
   "source": [
    "total_virulence_genes_array = np.array(filtered_data.iloc[:, -1])"
   ]
  },
  {
   "cell_type": "code",
   "execution_count": null,
   "metadata": {},
   "outputs": [],
   "source": [
    "len(total_virulence_genes_array)"
   ]
  },
  {
   "cell_type": "code",
   "execution_count": null,
   "metadata": {},
   "outputs": [],
   "source": [
    "total_virulence_genes_array2 = np.array(filtered_data['Total_virulence_genes'])"
   ]
  },
  {
   "cell_type": "code",
   "execution_count": null,
   "metadata": {},
   "outputs": [],
   "source": [
    "len(total_virulence_genes_array2)"
   ]
  },
  {
   "cell_type": "code",
   "execution_count": null,
   "metadata": {},
   "outputs": [],
   "source": [
    "print(filtered_data['Num_CDSs'].min())\n",
    "print(filtered_data['Num_CDSs'].max())\n",
    "print(filtered_data['Num_CDSs'].median())\n",
    "print(filtered_data['Num_CDSs'].mean())"
   ]
  },
  {
   "cell_type": "code",
   "execution_count": null,
   "metadata": {},
   "outputs": [],
   "source": [
    "filtered_data"
   ]
  },
  {
   "cell_type": "code",
   "execution_count": null,
   "metadata": {},
   "outputs": [],
   "source": [
    "data_tensor = torch.tensor(np.array(filtered_data.iloc[:, :-8]), dtype=torch.float32)"
   ]
  },
  {
   "cell_type": "code",
   "execution_count": null,
   "metadata": {},
   "outputs": [],
   "source": [
    "data_tensor.shape"
   ]
  },
  {
   "cell_type": "code",
   "execution_count": null,
   "metadata": {},
   "outputs": [],
   "source": [
    "target_array = np.array(filtered_data['Num_contigs'])"
   ]
  },
  {
   "cell_type": "code",
   "execution_count": null,
   "metadata": {},
   "outputs": [],
   "source": [
    "target_array.shape"
   ]
  },
  {
   "cell_type": "markdown",
   "metadata": {},
   "source": [
    "## 7.2) PCA of 7 chosen metadata characteristics"
   ]
  },
  {
   "cell_type": "code",
   "execution_count": null,
   "metadata": {},
   "outputs": [],
   "source": [
    "arrays = ['Source','Num_CDSs', 'Num_contigs', 'MDR', 'Pathotype', 'Phylogroup', 'Total_AMR_genes', 'Total_virulence_genes']\n",
    "\n",
    "for array in arrays:\n",
    "    target_array = np.array(filtered_data[array])\n",
    "    train_data, temp_data, train_labels, temp_labels = train_test_split(data_tensor, target_array, test_size=0.3, random_state=12345)\n",
    "    val_data, test_data, val_labels, test_labels = train_test_split(temp_data, temp_labels, test_size=0.3333, random_state=12345)\n",
    "    \n",
    "    test_dataset = TensorDataset(test_data)\n",
    "    test_loader = DataLoader(test_dataset, batch_size=batch_size, shuffle=False)\n",
    "\n",
    "    latents = get_latent_variables(model, test_loader, device)\n",
    "    pca = PCA(n_components=7)\n",
    "    data_pca = pca.fit_transform(latents)\n",
    "\n",
    "    num_plots = 6\n",
    "    fig, axes = plt.subplots(2, 3, figsize=(20, 15))\n",
    "    axes = axes.flatten()\n",
    "\n",
    "    handles = []\n",
    "    labels = []\n",
    "\n",
    "    for i in range(num_plots):\n",
    "        col1 = 'PC' + str(i + 1)\n",
    "        col2 = 'PC' + str(i + 2)\n",
    "        df_pca = pd.DataFrame(data_pca[:, i:i + 2], columns=[col1, col2])\n",
    "        df_pca[array] = test_labels\n",
    "\n",
    "        ax = axes[i]\n",
    "\n",
    "        scatter = sns.scatterplot(x=col1, y=col2, hue=df_pca[array], data=df_pca, ax=ax, legend=False)\n",
    "\n",
    "        if i == 0:\n",
    "            scatter = sns.scatterplot(x=col1, y=col2, hue=df_pca[array], data=df_pca, ax=ax, legend='brief')\n",
    "            handles, labels = ax.get_legend_handles_labels()\n",
    "            ax.get_legend().remove()\n",
    "\n",
    "    fig.legend(handles, labels, loc='center right', title=array)\n",
    "    # plt.savefig('figures/pca_latent_space_'+array+'_size_visualisation_BD_100_AHPT_7PCs.pdf', format=\"pdf\", bbox_inches=\"tight\")\n",
    "\n",
    "    plt.tight_layout()\n",
    "    plt.show()\n"
   ]
  },
  {
   "cell_type": "markdown",
   "metadata": {},
   "source": [
    "# 8) Exploring the genetic distance and latent space distance of lineages using mantel test"
   ]
  },
  {
   "cell_type": "code",
   "execution_count": null,
   "metadata": {},
   "outputs": [],
   "source": [
    "merged_d_3 = pd.merge(large_data.transpose(), phylogroup_data, how='inner', left_index=True, right_on='ID')"
   ]
  },
  {
   "cell_type": "code",
   "execution_count": null,
   "metadata": {},
   "outputs": [],
   "source": [
    "merged_d_3.dtypes"
   ]
  },
  {
   "cell_type": "code",
   "execution_count": null,
   "metadata": {},
   "outputs": [],
   "source": [
    "merged_d_3['Lineage'] = merged_d_3['Lineage'].astype(object)"
   ]
  },
  {
   "cell_type": "code",
   "execution_count": null,
   "metadata": {},
   "outputs": [],
   "source": [
    "merged_d_3.dtypes"
   ]
  },
  {
   "cell_type": "code",
   "execution_count": null,
   "metadata": {},
   "outputs": [],
   "source": [
    "numeric_cols = merged_d_3.select_dtypes(include='number')\n",
    "column_sums = numeric_cols.sum(axis=0)\n",
    "\n",
    "filtered_columns = column_sums[column_sums / 7512 >= 0.05].index\n",
    "filtered_data = merged_d_3[filtered_columns]\n",
    "\n",
    "filtered_data = merged_d_3[filtered_columns].copy()"
   ]
  },
  {
   "cell_type": "code",
   "execution_count": null,
   "metadata": {},
   "outputs": [],
   "source": [
    "filtered_data"
   ]
  },
  {
   "cell_type": "code",
   "execution_count": null,
   "metadata": {},
   "outputs": [],
   "source": [
    "filtered_data['Phylogroup'] = merged_d_3['Phylogroup']\n",
    "filtered_data['Lineage'] = merged_d_3['Lineage']"
   ]
  },
  {
   "cell_type": "code",
   "execution_count": null,
   "metadata": {},
   "outputs": [],
   "source": [
    "filtered_data"
   ]
  },
  {
   "cell_type": "code",
   "execution_count": null,
   "metadata": {},
   "outputs": [],
   "source": [
    "data_array_t = np.array(filtered_data.iloc[:, :-2])\n",
    "lineages_array = np.array(filtered_data.iloc[:, -1])"
   ]
  },
  {
   "cell_type": "code",
   "execution_count": null,
   "metadata": {},
   "outputs": [],
   "source": [
    "lineages_array"
   ]
  },
  {
   "cell_type": "markdown",
   "metadata": {},
   "source": [
    "## Lineage PCA"
   ]
  },
  {
   "cell_type": "code",
   "execution_count": null,
   "metadata": {},
   "outputs": [],
   "source": [
    "large_data.transpose()"
   ]
  },
  {
   "cell_type": "code",
   "execution_count": null,
   "metadata": {},
   "outputs": [],
   "source": [
    "data_array_t = np.array(large_data.transpose().iloc[:, 1:])\n",
    "lineages_array = np.array(large_data.transpose().iloc[:, 0])\n",
    "\n",
    "data_tensor = torch.tensor(data_array_t, dtype=torch.float32)\n",
    "\n",
    "train_data, temp_data, train_labels, temp_labels = train_test_split(data_tensor, lineages_array, test_size=0.3, random_state=12345)\n",
    "val_data, test_data, val_labels, test_labels = train_test_split(temp_data, temp_labels, test_size=0.3333, random_state=12345)\n",
    "\n",
    "batch_size = 32\n",
    "\n",
    "# TensorDataset\n",
    "train_dataset = TensorDataset(train_data)\n",
    "val_dataset = TensorDataset(val_data)\n",
    "test_dataset = TensorDataset(test_data)\n",
    "\n",
    "test_loader = DataLoader(test_dataset, batch_size=batch_size, shuffle=False)\n",
    "\n",
    "latents = get_latent_variables(model, test_loader, device)\n",
    "pca = PCA(n_components=3)\n",
    "data_pca = pca.fit_transform(latents)\n",
    "df_pca = pd.DataFrame(data_pca, columns=['PC1', 'PC2', 'PC3'])\n",
    "df_pca['Lineage'] = test_labels\n",
    "\n",
    "fig, axes = plt.subplots(1, 2, figsize=(20, 10))\n",
    "# plt.figure(figsize=(10, 10))\n",
    "sns.scatterplot(x='PC1', y='PC2', hue = df_pca['Lineage'], data=df_pca, ax=axes[0])\n",
    "sns.scatterplot(x='PC2', y='PC3', hue = df_pca['Lineage'], data=df_pca, ax=axes[1])\n",
    "# plt.savefig('figures/pca_latent_space_lineage.pdf', format=\"pdf\", bbox_inches=\"tight\")\n",
    "plt.show()\n"
   ]
  },
  {
   "cell_type": "code",
   "execution_count": null,
   "metadata": {},
   "outputs": [],
   "source": [
    "df_pca"
   ]
  },
  {
   "cell_type": "code",
   "execution_count": null,
   "metadata": {},
   "outputs": [],
   "source": [
    "tree = Phylo.read(\"/Users/anastasiiashcherbakova/git_projects/masters_project/data/tree_50.nwk\", \"newick\")\n",
    "terminals = tree.get_terminals()\n",
    "tree_lineages = np.array([t.name for t in terminals]).astype(object)\n",
    "pca_lineages = df_pca['Lineage'].unique()\n",
    "\n",
    "# common_lineages = set(tree_lineages).intersection(set(pca_lineages))\n",
    "\n",
    "# Group by 'Lineage' and calculate the mean of 'PC1' and 'PC2' for each lineage\n",
    "average_positions = df_pca.groupby('Lineage')[['PC1', 'PC2']].mean()\n",
    "\n",
    "# Compute the pairwise distance matrix\n",
    "distance_matrix = pairwise_distances(average_positions, metric='euclidean')\n",
    "\n",
    "# Convert the distance matrix to a DataFrame for better readability\n",
    "# Use the Lineage names as the index and column names\n",
    "distance_df_PCA = pd.DataFrame(distance_matrix, index=average_positions.index, columns=average_positions.index)\n",
    "\n",
    "# Save the distance matrix to a CSV file (optional)\n",
    "distance_df_PCA.to_csv(\"/Users/anastasiiashcherbakova/git_projects/masters_project/data/pca_genetic_distance_matrix.csv\")"
   ]
  },
  {
   "cell_type": "code",
   "execution_count": null,
   "metadata": {},
   "outputs": [],
   "source": [
    "distance_df_PCA"
   ]
  },
  {
   "cell_type": "code",
   "execution_count": null,
   "metadata": {},
   "outputs": [],
   "source": [
    "tree_lineages"
   ]
  },
  {
   "cell_type": "code",
   "execution_count": null,
   "metadata": {},
   "outputs": [],
   "source": [
    "pca_lineages"
   ]
  },
  {
   "cell_type": "code",
   "execution_count": null,
   "metadata": {},
   "outputs": [],
   "source": [
    "Phylo.draw(tree, do_show=False)\n",
    "plt.show()"
   ]
  },
  {
   "cell_type": "markdown",
   "metadata": {},
   "source": [
    "### working with lineages"
   ]
  },
  {
   "cell_type": "code",
   "execution_count": null,
   "metadata": {},
   "outputs": [],
   "source": [
    "terminals = tree.get_terminals()\n",
    "\n",
    "num_leaves = len(terminals)\n",
    "distance_matrix = np.zeros((num_leaves, num_leaves))\n",
    "\n",
    "for i, term1 in enumerate(terminals):\n",
    "    for j, term2 in enumerate(terminals):\n",
    "        if i != j:\n",
    "            distance = tree.distance(term1, term2)\n",
    "            distance_matrix[i, j] = distance\n",
    "        else:\n",
    "            distance_matrix[i, j] = 0 \n",
    "\n",
    "distance_df = pd.DataFrame(distance_matrix, index=[t.name for t in terminals], columns=[t.name for t in terminals])\n",
    "\n",
    "distance_df.index = distance_df.index.astype(int)\n",
    "distance_df.columns = distance_df.columns.astype(int)\n",
    "distance_df_tree = distance_df.loc[pca_lineages, pca_lineages]\n",
    "distance_df_tree = distance_df_tree.sort_index(axis=0).sort_index(axis=1)\n",
    "\n",
    "\n",
    "distance_df_tree.to_csv(\"/Users/anastasiiashcherbakova/git_projects/masters_project/data/genetic_distance_matrix.csv\")"
   ]
  },
  {
   "cell_type": "code",
   "execution_count": null,
   "metadata": {},
   "outputs": [],
   "source": [
    "distance_df_tree"
   ]
  },
  {
   "cell_type": "code",
   "execution_count": null,
   "metadata": {},
   "outputs": [],
   "source": [
    "\n",
    "# # Load the previously saved distance matrices\n",
    "# distance_df_pca = pd.read_csv(\"data/pca_genetic_distance_matrix.csv\", index_col=0)\n",
    "# distance_df_tree_common = pd.read_csv(\"data/genetic_distance_matrix.csv\", index_col=0)\n",
    "\n",
    "# Convert the DataFrames to numpy arrays\n",
    "distance_matrix_pca = distance_df_PCA.values\n",
    "distance_matrix_tree = distance_df_tree.values\n",
    "\n",
    "# Perform the Mantel test\n",
    "result = mantel.test(distance_matrix_pca, distance_matrix_tree, perms=999, method='pearson', tail='upper')\n",
    "\n",
    "# Print the results\n",
    "print(f\"Mantel test correlation: {result}\")\n",
    "print(f\"P-value: {result.p}\")\n",
    "\n",
    "# Interpret the results\n",
    "if result.p < 0.05:\n",
    "    print(\"The correlation between the two distance matrices is statistically significant.\")\n",
    "else:\n",
    "    print(\"The correlation between the two distance matrices is not statistically significant.\")\n"
   ]
  },
  {
   "cell_type": "code",
   "execution_count": null,
   "metadata": {},
   "outputs": [],
   "source": [
    "plt.figure(figsize=(10,10))\n",
    "plt.scatter(np.array(distance_df_PCA).flatten(), np.array(distance_df_tree).flatten(), color='dodgerblue')\n",
    "plt.xlabel('Distances (PCA)')\n",
    "plt.ylabel('Distances (Tree)')\n",
    "# plt.savefig(\"/Users/anastasiiashcherbakova/git_projects/masters_project/figures/scatter_final_plot_distances.pdf\", format=\"pdf\", bbox_inches=\"tight\")\n",
    "plt.grid(True)\n",
    "plt.show()"
   ]
  },
  {
   "cell_type": "markdown",
   "metadata": {},
   "source": [
    "# 9) Generation of new genomes from the models latent space"
   ]
  },
  {
   "cell_type": "code",
   "execution_count": null,
   "metadata": {},
   "outputs": [],
   "source": [
    "data_array_t = np.array(merged_df.iloc[:, :-1])\n",
    "phylogroups_array = np.array(merged_df.iloc[:, -1])"
   ]
  },
  {
   "cell_type": "code",
   "execution_count": null,
   "metadata": {},
   "outputs": [],
   "source": [
    "# Convert to PyTorch tensor\n",
    "data_tensor = torch.tensor(data_array_t, dtype=torch.float32)\n",
    "\n",
    "# Split into train and test sets\n",
    "train_data, temp_data, train_labels, temp_labels = train_test_split(data_tensor, phylogroups_array, test_size=0.3, random_state=12345)\n",
    "val_data, test_data, val_labels, test_labels = train_test_split(temp_data, temp_labels, test_size=0.3333, random_state=12345)\n",
    "test_phylogroups = test_labels\n",
    "\n",
    "batch_size = 32\n",
    "\n",
    "# TensorDataset\n",
    "train_dataset = TensorDataset(train_data)\n",
    "val_dataset = TensorDataset(val_data)\n",
    "test_dataset = TensorDataset(test_data)\n",
    "\n",
    "test_loader = DataLoader(test_dataset, batch_size=batch_size, shuffle=False)"
   ]
  },
  {
   "cell_type": "code",
   "execution_count": null,
   "metadata": {},
   "outputs": [],
   "source": [
    "latents = get_latent_variables(model, test_loader, device)\n",
    "pca = PCA(n_components=2)\n",
    "data_pca = pca.fit_transform(latents)\n",
    "df_pca = pd.DataFrame(data_pca, columns=['PC1', 'PC2'])\n",
    "df_pca['phylogroup'] = test_phylogroups\n",
    "\n",
    "# Plot the PCA results\n",
    "plt.figure(figsize=(10, 10))\n",
    "sns.scatterplot(x='PC1', y='PC2', hue = df_pca['phylogroup'], data=df_pca)\n",
    "# plt.savefig(\"figures/pca_latent_space_visualisation_full_dataset_test_set.pdf\", format=\"pdf\", bbox_inches=\"tight\")\n",
    "plt.show()"
   ]
  },
  {
   "cell_type": "code",
   "execution_count": null,
   "metadata": {},
   "outputs": [],
   "source": [
    "latents = get_latent_variables(model, train_loader, device)\n",
    "pca = PCA(n_components=2)\n",
    "data_pca = pca.fit_transform(latents)\n",
    "df_pca = pd.DataFrame(data_pca, columns=['PC1', 'PC2'])\n",
    "df_pca['phylogroup'] = train_labels\n"
   ]
  },
  {
   "cell_type": "code",
   "execution_count": null,
   "metadata": {},
   "outputs": [],
   "source": [
    "# Plot the PCA results\n",
    "plt.figure(figsize=(10, 10))\n",
    "sns.scatterplot(x='PC1', y='PC2', hue = df_pca['phylogroup'], data=df_pca)\n",
    "# plt.savefig(\"figures/pca_latent_space_visualisation_full_dataset_train_set.pdf\", format=\"pdf\", bbox_inches=\"tight\")\n",
    "plt.show()"
   ]
  },
  {
   "cell_type": "markdown",
   "metadata": {},
   "source": [
    "## 9.1) Sparse latent sampling"
   ]
  },
  {
   "cell_type": "code",
   "execution_count": null,
   "metadata": {},
   "outputs": [],
   "source": [
    "# # k = 8\n",
    "# latents = get_latent_variables(model, test_loader, device)\n",
    "\n",
    "# for k in range(2, 11):\n",
    "#     kmeans = KMeans(n_clusters=k, random_state=0).fit(latents)\n",
    "\n",
    "#     cluster_centers = kmeans.cluster_centers_\n",
    "\n",
    "#     num_samples_per_cluster = 1000\n",
    "\n",
    "#     sparse_samples = []\n",
    "#     for center in cluster_centers:\n",
    "#         with torch.no_grad():\n",
    "#             noise = np.random.normal(loc=0, scale=0.1, size=(num_samples_per_cluster, latent_dim))  # Adjust noise level as needed\n",
    "#             z_samples = center + noise\n",
    "#             z_samples = torch.tensor(z_samples, dtype=torch.float32)\n",
    "#             # print(z_samples.dtype)\n",
    "#             # print(z_samples.shape)\n",
    "#             generated_samples = model.decode(z_samples).cpu().numpy()\n",
    "#             sparse_samples.extend(generated_samples)\n",
    "\n",
    "#     sparse_samples = np.array(sparse_samples)\n",
    "\n",
    "#     print(\"Sparse samples generated:\")\n",
    "#     print(sparse_samples)\n",
    "\n",
    "#     threshold = 0.5\n",
    "#     binary_sparse_samples = (sparse_samples > threshold).astype(float)\n",
    "\n",
    "#     plt.figure(figsize=(10,10))\n",
    "#     plt.hist(binary_sparse_samples.sum(axis=1), bins=100, color='dodgerblue')\n",
    "#     plt.xlabel('Genome size')\n",
    "#     plt.ylabel('Frequency')\n"
   ]
  },
  {
   "cell_type": "code",
   "execution_count": null,
   "metadata": {},
   "outputs": [],
   "source": [
    "# plt.figure(figsize=(10,10))\n",
    "# plt.hist(binary_sparse_samples.sum(axis=1), bins=100, color='dodgerblue')\n",
    "# plt.xlabel('Genome size')\n",
    "# plt.ylabel('Frequency')\n",
    "# plt.savefig(\"figures/sparse_sampling.pdf\", format=\"pdf\", bbox_inches=\"tight\")"
   ]
  },
  {
   "cell_type": "markdown",
   "metadata": {},
   "source": [
    "## 9.2) Random sampling from latent space"
   ]
  },
  {
   "cell_type": "code",
   "execution_count": null,
   "metadata": {},
   "outputs": [],
   "source": [
    "state_dict = torch.load('/Users/anastasiiashcherbakova/Desktop/2_bigdataset/7_all_genes_new_params/saved_KL_annealing_VAE_BD_100_AHPT.pt', map_location=torch.device('cpu'))\n",
    "print(state_dict.keys())"
   ]
  },
  {
   "cell_type": "code",
   "execution_count": null,
   "metadata": {},
   "outputs": [],
   "source": [
    "# Load trained model \n",
    "input_dim = 55039\n",
    "hidden_dim = 1024\n",
    "latent_dim = 64\n",
    "\n",
    "# changes layer norm layer to batch norm layer and \n",
    "model = VAE_2(input_dim, hidden_dim, latent_dim)\n",
    "model.load_state_dict(torch.load('/Users/anastasiiashcherbakova/Desktop/2_bigdataset/7_all_genes_new_params/saved_KL_annealing_VAE_BD_100_AHPT.pt',  map_location=torch.device('cpu')))  \n",
    "model.eval()  \n",
    "\n",
    "# Generate 10 new samples\n",
    "num_samples = 10000\n",
    "with torch.no_grad():\n",
    "    z = torch.randn(num_samples, latent_dim)  # Sample from the standard normal distribution because the latent space follows normal distribution \n",
    "    generated_samples = model.decode(z).cpu().numpy() \n",
    "\n",
    "threshold = 0.5\n",
    "binary_generated_samples = (generated_samples > threshold).astype(float)\n",
    "\n",
    "print(\"Generated samples (binary):\\n\", binary_generated_samples)\n",
    "print(\"\\n\")\n",
    "print(\"Generated samples (sigmoid function output):\\n\", generated_samples)\n"
   ]
  },
  {
   "cell_type": "code",
   "execution_count": null,
   "metadata": {},
   "outputs": [],
   "source": [
    "binary_generated_samples.sum(axis=1).min()"
   ]
  },
  {
   "cell_type": "code",
   "execution_count": null,
   "metadata": {},
   "outputs": [],
   "source": [
    "total_ones = np.sum(binary_generated_samples, axis=1)\n",
    "min_ones_index = np.argmin(total_ones)"
   ]
  },
  {
   "cell_type": "code",
   "execution_count": null,
   "metadata": {},
   "outputs": [],
   "source": [
    "total_ones"
   ]
  },
  {
   "cell_type": "code",
   "execution_count": null,
   "metadata": {},
   "outputs": [],
   "source": [
    "total_ones[min_ones_index]"
   ]
  },
  {
   "cell_type": "code",
   "execution_count": null,
   "metadata": {},
   "outputs": [],
   "source": [
    "latent_distances = np.linalg.norm(generated_samples - generated_samples[min_ones_index], axis=1)\n",
    "\n",
    "closest_latent_index = np.argmin(latent_distances)\n",
    "\n",
    "print(f\"Closest latent vector (z): {z[closest_latent_index]}\")\n",
    "print(f\"Generated sample from closest latent vector:\\n {generated_samples[closest_latent_index]}\")"
   ]
  },
  {
   "cell_type": "code",
   "execution_count": null,
   "metadata": {},
   "outputs": [],
   "source": [
    "z_of_interest = z[closest_latent_index] \n",
    "z_of_interest_tensor = torch.tensor(z_of_interest).unsqueeze(0)  \n",
    "\n",
    "noise_std = 0.1\n",
    "\n",
    "num_additional_samples = 1000  \n",
    "with torch.no_grad():\n",
    "    noise = torch.randn(num_additional_samples, latent_dim) * noise_std\n",
    "    z_samples = z_of_interest_tensor + noise\n",
    "    additional_generated_samples = model.decode(z_samples).cpu().numpy()\n",
    "\n",
    "\n",
    "print(\"Additional generated samples:\")\n",
    "print(additional_generated_samples)"
   ]
  },
  {
   "cell_type": "code",
   "execution_count": null,
   "metadata": {},
   "outputs": [],
   "source": [
    "plt.figure(figsize=(10,10))\n",
    "plt.hist(binary_generated_samples.sum(axis=1), bins=10, color='dodgerblue')\n",
    "plt.xlabel('Genome size')\n",
    "plt.ylabel('Frequency')\n",
    "# plt.savefig(\"figures/sampling_10000_genome_size_distribution.pdf\", format=\"pdf\", bbox_inches=\"tight\")"
   ]
  },
  {
   "cell_type": "code",
   "execution_count": null,
   "metadata": {},
   "outputs": [],
   "source": [
    "binary_generated_samples.sum(axis=1).min()"
   ]
  },
  {
   "cell_type": "code",
   "execution_count": null,
   "metadata": {},
   "outputs": [],
   "source": [
    "np.mean(binary_generated_samples.sum(axis=1))"
   ]
  },
  {
   "cell_type": "code",
   "execution_count": null,
   "metadata": {},
   "outputs": [],
   "source": [
    "np.median(binary_generated_samples.sum(axis=1))"
   ]
  },
  {
   "cell_type": "markdown",
   "metadata": {},
   "source": [
    "## 9.3) Emphisising on a specific minimal genome region "
   ]
  },
  {
   "cell_type": "code",
   "execution_count": null,
   "metadata": {},
   "outputs": [],
   "source": [
    "threshold = 0.5\n",
    "binary_additional_generated_samples = (additional_generated_samples > threshold).astype(float)\n",
    "\n",
    "print(\"Generated samples (binary):\\n\", binary_additional_generated_samples)\n",
    "print(\"\\n\")\n",
    "print(\"Generated samples (sigmoid function output):\\n\", additional_generated_samples)"
   ]
  },
  {
   "cell_type": "code",
   "execution_count": null,
   "metadata": {},
   "outputs": [],
   "source": [
    "binary_additional_generated_samples.sum(axis=1).min()"
   ]
  },
  {
   "cell_type": "code",
   "execution_count": null,
   "metadata": {},
   "outputs": [],
   "source": [
    "plt.figure(figsize=(10,10))\n",
    "plt.hist(binary_additional_generated_samples.sum(axis=1), bins=10, color='dodgerblue')\n",
    "plt.xlabel('Genome size')\n",
    "plt.ylabel('Frequency')\n",
    "# plt.savefig(\"figures/sampling_small_genomes.pdf\", format=\"pdf\", bbox_inches=\"tight\")"
   ]
  },
  {
   "cell_type": "markdown",
   "metadata": {},
   "source": [
    "## 9.4) Grid sampling "
   ]
  },
  {
   "cell_type": "code",
   "execution_count": null,
   "metadata": {},
   "outputs": [],
   "source": [
    "grid_size = 3\n",
    "scale = 21.0\n",
    "\n",
    "x = np.linspace(-scale, scale, grid_size)\n",
    "y = np.linspace(-scale, scale, grid_size)\n",
    "xx, yy = np.meshgrid(x, y)\n",
    "grid_points = np.stack([xx.ravel(), yy.ravel()], axis=-1)\n",
    "grid_points = torch.tensor(grid_points, dtype=torch.float32)\n",
    "    "
   ]
  },
  {
   "cell_type": "code",
   "execution_count": null,
   "metadata": {},
   "outputs": [],
   "source": [
    "grid_points"
   ]
  },
  {
   "cell_type": "code",
   "execution_count": null,
   "metadata": {},
   "outputs": [],
   "source": [
    "new_high_dim_grid_points = pca.inverse_transform(grid_points)\n",
    "\n",
    "new_high_dim_grid_points = torch.tensor(new_high_dim_grid_points, dtype=torch.float32)\n",
    "\n",
    "with torch.no_grad():\n",
    "    generated_samples = model.decode(new_high_dim_grid_points).cpu().numpy()"
   ]
  },
  {
   "cell_type": "code",
   "execution_count": null,
   "metadata": {},
   "outputs": [],
   "source": [
    "threshold = 0.5\n",
    "binary_generated_samples = (generated_samples > threshold).astype(float)\n",
    "\n",
    "print(\"Generated samples (binary):\\n\", binary_generated_samples)\n",
    "print(\"\\n\")\n",
    "print(\"Generated samples (sigmoid function output):\\n\", generated_samples)"
   ]
  },
  {
   "cell_type": "code",
   "execution_count": null,
   "metadata": {},
   "outputs": [],
   "source": [
    "plt.figure(figsize=(10,10))\n",
    "plt.hist(binary_generated_samples.sum(axis=1), bins=100, color='dodgerblue')\n",
    "plt.xlabel('Genome size')\n",
    "plt.ylabel('Frequency')\n",
    "# plt.savefig(\"figures/sampling_grid_genome_size_distribution.pdf\", format=\"pdf\", bbox_inches=\"tight\")"
   ]
  },
  {
   "cell_type": "code",
   "execution_count": null,
   "metadata": {},
   "outputs": [],
   "source": [
    "binary_generated_samples.sum(axis=1).min()"
   ]
  }
 ],
 "metadata": {
  "kernelspec": {
   "display_name": "learning_env",
   "language": "python",
   "name": "python3"
  },
  "language_info": {
   "codemirror_mode": {
    "name": "ipython",
    "version": 3
   },
   "file_extension": ".py",
   "mimetype": "text/x-python",
   "name": "python",
   "nbconvert_exporter": "python",
   "pygments_lexer": "ipython3",
   "version": "3.8.13"
  }
 },
 "nbformat": 4,
 "nbformat_minor": 2
}
