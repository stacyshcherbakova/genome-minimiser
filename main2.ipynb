{
 "cells": [
  {
   "cell_type": "code",
   "execution_count": 93,
   "metadata": {},
   "outputs": [],
   "source": [
    "import pandas as pd \n",
    "import numpy as np \n",
    "from dir import *\n",
    "import matplotlib.pyplot as plt\n",
    "from torch.utils.data import DataLoader, TensorDataset, Subset\n",
    "from sklearn.model_selection import train_test_split\n",
    "from VAE_model import *\n",
    "from VAE_model_single import *\n",
    "from training import *\n",
    "from extras import *\n",
    "plt.style.use('ggplot')\n",
    "device = torch.device(\"cuda\" if torch.cuda.is_available() else \"cpu\")"
   ]
  },
  {
   "cell_type": "markdown",
   "metadata": {},
   "source": [
    "# data exploration "
   ]
  },
  {
   "cell_type": "code",
   "execution_count": 2,
   "metadata": {},
   "outputs": [],
   "source": [
    "large_data = pd.read_csv(\"F4_complete_presence_absence.csv\", index_col=[0], header=[0])"
   ]
  },
  {
   "cell_type": "code",
   "execution_count": 3,
   "metadata": {},
   "outputs": [
    {
     "data": {
      "text/html": [
       "<div>\n",
       "<style scoped>\n",
       "    .dataframe tbody tr th:only-of-type {\n",
       "        vertical-align: middle;\n",
       "    }\n",
       "\n",
       "    .dataframe tbody tr th {\n",
       "        vertical-align: top;\n",
       "    }\n",
       "\n",
       "    .dataframe thead th {\n",
       "        text-align: right;\n",
       "    }\n",
       "</style>\n",
       "<table border=\"1\" class=\"dataframe\">\n",
       "  <thead>\n",
       "    <tr style=\"text-align: right;\">\n",
       "      <th></th>\n",
       "      <th>41004_G02_contigs_pacbio</th>\n",
       "      <th>50884_F01_contigs_pacbio</th>\n",
       "      <th>AIAW00000000</th>\n",
       "      <th>AIBY00000000</th>\n",
       "      <th>AIFN00000000</th>\n",
       "      <th>NC_002655</th>\n",
       "      <th>NC_002695</th>\n",
       "      <th>NC_011353</th>\n",
       "      <th>NC_013008</th>\n",
       "      <th>NC_017906</th>\n",
       "      <th>...</th>\n",
       "      <th>esc_pa2010aa_as</th>\n",
       "      <th>esc_pa2013aa_as</th>\n",
       "      <th>esc_pa2014aa_as</th>\n",
       "      <th>esc_pa2016aa_as</th>\n",
       "      <th>esc_pa2019aa_as</th>\n",
       "      <th>esc_pa2021aa_as</th>\n",
       "      <th>esc_pa2023aa_as</th>\n",
       "      <th>esc_pa2315aa_as</th>\n",
       "      <th>esc_ra2551aa_as</th>\n",
       "      <th>esc_ra2561aa_as</th>\n",
       "    </tr>\n",
       "    <tr>\n",
       "      <th>Strain</th>\n",
       "      <th></th>\n",
       "      <th></th>\n",
       "      <th></th>\n",
       "      <th></th>\n",
       "      <th></th>\n",
       "      <th></th>\n",
       "      <th></th>\n",
       "      <th></th>\n",
       "      <th></th>\n",
       "      <th></th>\n",
       "      <th></th>\n",
       "      <th></th>\n",
       "      <th></th>\n",
       "      <th></th>\n",
       "      <th></th>\n",
       "      <th></th>\n",
       "      <th></th>\n",
       "      <th></th>\n",
       "      <th></th>\n",
       "      <th></th>\n",
       "      <th></th>\n",
       "    </tr>\n",
       "  </thead>\n",
       "  <tbody>\n",
       "    <tr>\n",
       "      <th>Lineage</th>\n",
       "      <td>1</td>\n",
       "      <td>1</td>\n",
       "      <td>1</td>\n",
       "      <td>1</td>\n",
       "      <td>1</td>\n",
       "      <td>1</td>\n",
       "      <td>1</td>\n",
       "      <td>1</td>\n",
       "      <td>1</td>\n",
       "      <td>1</td>\n",
       "      <td>...</td>\n",
       "      <td>51</td>\n",
       "      <td>51</td>\n",
       "      <td>51</td>\n",
       "      <td>51</td>\n",
       "      <td>51</td>\n",
       "      <td>51</td>\n",
       "      <td>51</td>\n",
       "      <td>51</td>\n",
       "      <td>51</td>\n",
       "      <td>51</td>\n",
       "    </tr>\n",
       "    <tr>\n",
       "      <th>group_5501</th>\n",
       "      <td>0</td>\n",
       "      <td>0</td>\n",
       "      <td>0</td>\n",
       "      <td>0</td>\n",
       "      <td>0</td>\n",
       "      <td>0</td>\n",
       "      <td>0</td>\n",
       "      <td>0</td>\n",
       "      <td>0</td>\n",
       "      <td>0</td>\n",
       "      <td>...</td>\n",
       "      <td>0</td>\n",
       "      <td>0</td>\n",
       "      <td>0</td>\n",
       "      <td>0</td>\n",
       "      <td>0</td>\n",
       "      <td>0</td>\n",
       "      <td>0</td>\n",
       "      <td>0</td>\n",
       "      <td>0</td>\n",
       "      <td>0</td>\n",
       "    </tr>\n",
       "    <tr>\n",
       "      <th>group_4783</th>\n",
       "      <td>0</td>\n",
       "      <td>0</td>\n",
       "      <td>0</td>\n",
       "      <td>0</td>\n",
       "      <td>0</td>\n",
       "      <td>0</td>\n",
       "      <td>0</td>\n",
       "      <td>0</td>\n",
       "      <td>0</td>\n",
       "      <td>0</td>\n",
       "      <td>...</td>\n",
       "      <td>0</td>\n",
       "      <td>0</td>\n",
       "      <td>0</td>\n",
       "      <td>0</td>\n",
       "      <td>0</td>\n",
       "      <td>0</td>\n",
       "      <td>0</td>\n",
       "      <td>0</td>\n",
       "      <td>0</td>\n",
       "      <td>0</td>\n",
       "    </tr>\n",
       "    <tr>\n",
       "      <th>group_4456</th>\n",
       "      <td>0</td>\n",
       "      <td>0</td>\n",
       "      <td>0</td>\n",
       "      <td>0</td>\n",
       "      <td>0</td>\n",
       "      <td>0</td>\n",
       "      <td>0</td>\n",
       "      <td>0</td>\n",
       "      <td>0</td>\n",
       "      <td>0</td>\n",
       "      <td>...</td>\n",
       "      <td>0</td>\n",
       "      <td>0</td>\n",
       "      <td>0</td>\n",
       "      <td>0</td>\n",
       "      <td>0</td>\n",
       "      <td>0</td>\n",
       "      <td>0</td>\n",
       "      <td>0</td>\n",
       "      <td>0</td>\n",
       "      <td>0</td>\n",
       "    </tr>\n",
       "    <tr>\n",
       "      <th>group_6055</th>\n",
       "      <td>0</td>\n",
       "      <td>0</td>\n",
       "      <td>0</td>\n",
       "      <td>0</td>\n",
       "      <td>0</td>\n",
       "      <td>0</td>\n",
       "      <td>0</td>\n",
       "      <td>0</td>\n",
       "      <td>0</td>\n",
       "      <td>0</td>\n",
       "      <td>...</td>\n",
       "      <td>0</td>\n",
       "      <td>0</td>\n",
       "      <td>0</td>\n",
       "      <td>0</td>\n",
       "      <td>0</td>\n",
       "      <td>0</td>\n",
       "      <td>0</td>\n",
       "      <td>0</td>\n",
       "      <td>0</td>\n",
       "      <td>0</td>\n",
       "    </tr>\n",
       "    <tr>\n",
       "      <th>...</th>\n",
       "      <td>...</td>\n",
       "      <td>...</td>\n",
       "      <td>...</td>\n",
       "      <td>...</td>\n",
       "      <td>...</td>\n",
       "      <td>...</td>\n",
       "      <td>...</td>\n",
       "      <td>...</td>\n",
       "      <td>...</td>\n",
       "      <td>...</td>\n",
       "      <td>...</td>\n",
       "      <td>...</td>\n",
       "      <td>...</td>\n",
       "      <td>...</td>\n",
       "      <td>...</td>\n",
       "      <td>...</td>\n",
       "      <td>...</td>\n",
       "      <td>...</td>\n",
       "      <td>...</td>\n",
       "      <td>...</td>\n",
       "      <td>...</td>\n",
       "    </tr>\n",
       "    <tr>\n",
       "      <th>group_2149_7</th>\n",
       "      <td>0</td>\n",
       "      <td>0</td>\n",
       "      <td>0</td>\n",
       "      <td>0</td>\n",
       "      <td>0</td>\n",
       "      <td>0</td>\n",
       "      <td>0</td>\n",
       "      <td>0</td>\n",
       "      <td>0</td>\n",
       "      <td>0</td>\n",
       "      <td>...</td>\n",
       "      <td>0</td>\n",
       "      <td>0</td>\n",
       "      <td>0</td>\n",
       "      <td>0</td>\n",
       "      <td>0</td>\n",
       "      <td>0</td>\n",
       "      <td>0</td>\n",
       "      <td>0</td>\n",
       "      <td>0</td>\n",
       "      <td>0</td>\n",
       "    </tr>\n",
       "    <tr>\n",
       "      <th>group_2067_4</th>\n",
       "      <td>0</td>\n",
       "      <td>0</td>\n",
       "      <td>0</td>\n",
       "      <td>0</td>\n",
       "      <td>0</td>\n",
       "      <td>0</td>\n",
       "      <td>0</td>\n",
       "      <td>0</td>\n",
       "      <td>0</td>\n",
       "      <td>0</td>\n",
       "      <td>...</td>\n",
       "      <td>0</td>\n",
       "      <td>0</td>\n",
       "      <td>0</td>\n",
       "      <td>0</td>\n",
       "      <td>0</td>\n",
       "      <td>0</td>\n",
       "      <td>0</td>\n",
       "      <td>0</td>\n",
       "      <td>0</td>\n",
       "      <td>0</td>\n",
       "    </tr>\n",
       "    <tr>\n",
       "      <th>group_2068_8</th>\n",
       "      <td>0</td>\n",
       "      <td>0</td>\n",
       "      <td>0</td>\n",
       "      <td>0</td>\n",
       "      <td>0</td>\n",
       "      <td>0</td>\n",
       "      <td>0</td>\n",
       "      <td>0</td>\n",
       "      <td>0</td>\n",
       "      <td>0</td>\n",
       "      <td>...</td>\n",
       "      <td>0</td>\n",
       "      <td>0</td>\n",
       "      <td>0</td>\n",
       "      <td>0</td>\n",
       "      <td>0</td>\n",
       "      <td>0</td>\n",
       "      <td>0</td>\n",
       "      <td>0</td>\n",
       "      <td>0</td>\n",
       "      <td>0</td>\n",
       "    </tr>\n",
       "    <tr>\n",
       "      <th>group_2069_3</th>\n",
       "      <td>0</td>\n",
       "      <td>0</td>\n",
       "      <td>0</td>\n",
       "      <td>0</td>\n",
       "      <td>0</td>\n",
       "      <td>0</td>\n",
       "      <td>0</td>\n",
       "      <td>0</td>\n",
       "      <td>0</td>\n",
       "      <td>0</td>\n",
       "      <td>...</td>\n",
       "      <td>0</td>\n",
       "      <td>0</td>\n",
       "      <td>0</td>\n",
       "      <td>0</td>\n",
       "      <td>0</td>\n",
       "      <td>0</td>\n",
       "      <td>0</td>\n",
       "      <td>0</td>\n",
       "      <td>0</td>\n",
       "      <td>0</td>\n",
       "    </tr>\n",
       "    <tr>\n",
       "      <th>group_2071_4</th>\n",
       "      <td>0</td>\n",
       "      <td>0</td>\n",
       "      <td>0</td>\n",
       "      <td>0</td>\n",
       "      <td>0</td>\n",
       "      <td>0</td>\n",
       "      <td>0</td>\n",
       "      <td>0</td>\n",
       "      <td>0</td>\n",
       "      <td>0</td>\n",
       "      <td>...</td>\n",
       "      <td>0</td>\n",
       "      <td>0</td>\n",
       "      <td>0</td>\n",
       "      <td>0</td>\n",
       "      <td>0</td>\n",
       "      <td>0</td>\n",
       "      <td>0</td>\n",
       "      <td>0</td>\n",
       "      <td>0</td>\n",
       "      <td>0</td>\n",
       "    </tr>\n",
       "  </tbody>\n",
       "</table>\n",
       "<p>55040 rows × 7512 columns</p>\n",
       "</div>"
      ],
      "text/plain": [
       "              41004_G02_contigs_pacbio  50884_F01_contigs_pacbio  \\\n",
       "Strain                                                             \n",
       "Lineage                              1                         1   \n",
       "group_5501                           0                         0   \n",
       "group_4783                           0                         0   \n",
       "group_4456                           0                         0   \n",
       "group_6055                           0                         0   \n",
       "...                                ...                       ...   \n",
       "group_2149_7                         0                         0   \n",
       "group_2067_4                         0                         0   \n",
       "group_2068_8                         0                         0   \n",
       "group_2069_3                         0                         0   \n",
       "group_2071_4                         0                         0   \n",
       "\n",
       "              AIAW00000000  AIBY00000000  AIFN00000000  NC_002655  NC_002695  \\\n",
       "Strain                                                                         \n",
       "Lineage                  1             1             1          1          1   \n",
       "group_5501               0             0             0          0          0   \n",
       "group_4783               0             0             0          0          0   \n",
       "group_4456               0             0             0          0          0   \n",
       "group_6055               0             0             0          0          0   \n",
       "...                    ...           ...           ...        ...        ...   \n",
       "group_2149_7             0             0             0          0          0   \n",
       "group_2067_4             0             0             0          0          0   \n",
       "group_2068_8             0             0             0          0          0   \n",
       "group_2069_3             0             0             0          0          0   \n",
       "group_2071_4             0             0             0          0          0   \n",
       "\n",
       "              NC_011353  NC_013008  NC_017906  ...  esc_pa2010aa_as  \\\n",
       "Strain                                         ...                    \n",
       "Lineage               1          1          1  ...               51   \n",
       "group_5501            0          0          0  ...                0   \n",
       "group_4783            0          0          0  ...                0   \n",
       "group_4456            0          0          0  ...                0   \n",
       "group_6055            0          0          0  ...                0   \n",
       "...                 ...        ...        ...  ...              ...   \n",
       "group_2149_7          0          0          0  ...                0   \n",
       "group_2067_4          0          0          0  ...                0   \n",
       "group_2068_8          0          0          0  ...                0   \n",
       "group_2069_3          0          0          0  ...                0   \n",
       "group_2071_4          0          0          0  ...                0   \n",
       "\n",
       "              esc_pa2013aa_as  esc_pa2014aa_as  esc_pa2016aa_as  \\\n",
       "Strain                                                            \n",
       "Lineage                    51               51               51   \n",
       "group_5501                  0                0                0   \n",
       "group_4783                  0                0                0   \n",
       "group_4456                  0                0                0   \n",
       "group_6055                  0                0                0   \n",
       "...                       ...              ...              ...   \n",
       "group_2149_7                0                0                0   \n",
       "group_2067_4                0                0                0   \n",
       "group_2068_8                0                0                0   \n",
       "group_2069_3                0                0                0   \n",
       "group_2071_4                0                0                0   \n",
       "\n",
       "              esc_pa2019aa_as  esc_pa2021aa_as  esc_pa2023aa_as  \\\n",
       "Strain                                                            \n",
       "Lineage                    51               51               51   \n",
       "group_5501                  0                0                0   \n",
       "group_4783                  0                0                0   \n",
       "group_4456                  0                0                0   \n",
       "group_6055                  0                0                0   \n",
       "...                       ...              ...              ...   \n",
       "group_2149_7                0                0                0   \n",
       "group_2067_4                0                0                0   \n",
       "group_2068_8                0                0                0   \n",
       "group_2069_3                0                0                0   \n",
       "group_2071_4                0                0                0   \n",
       "\n",
       "              esc_pa2315aa_as  esc_ra2551aa_as  esc_ra2561aa_as  \n",
       "Strain                                                           \n",
       "Lineage                    51               51               51  \n",
       "group_5501                  0                0                0  \n",
       "group_4783                  0                0                0  \n",
       "group_4456                  0                0                0  \n",
       "group_6055                  0                0                0  \n",
       "...                       ...              ...              ...  \n",
       "group_2149_7                0                0                0  \n",
       "group_2067_4                0                0                0  \n",
       "group_2068_8                0                0                0  \n",
       "group_2069_3                0                0                0  \n",
       "group_2071_4                0                0                0  \n",
       "\n",
       "[55040 rows x 7512 columns]"
      ]
     },
     "execution_count": 3,
     "metadata": {},
     "output_type": "execute_result"
    }
   ],
   "source": [
    "large_data"
   ]
  },
  {
   "cell_type": "code",
   "execution_count": 4,
   "metadata": {},
   "outputs": [],
   "source": [
    "threshold_data = []\n",
    "thresholds = np.linspace(0, 50, num=50)\n",
    "\n",
    "for i in thresholds:\n",
    "    row_sums = large_data.sum(axis=1)\n",
    "    threshold_data.append(len(large_data[row_sums >= i]))\n"
   ]
  },
  {
   "cell_type": "code",
   "execution_count": 5,
   "metadata": {},
   "outputs": [],
   "source": [
    "# threshold_data"
   ]
  },
  {
   "cell_type": "code",
   "execution_count": 6,
   "metadata": {},
   "outputs": [
    {
     "data": {
      "image/png": "[encoded data removed]",
      "text/plain": [
       "<Figure size 720x576 with 1 Axes>"
      ]
     },
     "metadata": {},
     "output_type": "display_data"
    }
   ],
   "source": [
    "plt.figure(figsize=(10,8))\n",
    "plt.scatter(thresholds, threshold_data, color='dodgerblue')\n",
    "plt.plot(thresholds, threshold_data, color='dodgerblue')\n",
    "plt.xlabel(\"Gene Number Thershold\")\n",
    "plt.ylabel(\"Gene Frequency\")\n",
    "plt.savefig(\"gene_frequency_2.pdf\", format=\"pdf\", bbox_inches=\"tight\")\n",
    "plt.show()"
   ]
  },
  {
   "cell_type": "code",
   "execution_count": 7,
   "metadata": {},
   "outputs": [
    {
     "data": {
      "text/html": [
       "<div>\n",
       "<style scoped>\n",
       "    .dataframe tbody tr th:only-of-type {\n",
       "        vertical-align: middle;\n",
       "    }\n",
       "\n",
       "    .dataframe tbody tr th {\n",
       "        vertical-align: top;\n",
       "    }\n",
       "\n",
       "    .dataframe thead th {\n",
       "        text-align: right;\n",
       "    }\n",
       "</style>\n",
       "<table border=\"1\" class=\"dataframe\">\n",
       "  <thead>\n",
       "    <tr style=\"text-align: right;\">\n",
       "      <th></th>\n",
       "      <th>41004_G02_contigs_pacbio</th>\n",
       "      <th>50884_F01_contigs_pacbio</th>\n",
       "      <th>AIAW00000000</th>\n",
       "      <th>AIBY00000000</th>\n",
       "      <th>AIFN00000000</th>\n",
       "      <th>NC_002655</th>\n",
       "      <th>NC_002695</th>\n",
       "      <th>NC_011353</th>\n",
       "      <th>NC_013008</th>\n",
       "      <th>NC_017906</th>\n",
       "      <th>...</th>\n",
       "      <th>esc_pa2010aa_as</th>\n",
       "      <th>esc_pa2013aa_as</th>\n",
       "      <th>esc_pa2014aa_as</th>\n",
       "      <th>esc_pa2016aa_as</th>\n",
       "      <th>esc_pa2019aa_as</th>\n",
       "      <th>esc_pa2021aa_as</th>\n",
       "      <th>esc_pa2023aa_as</th>\n",
       "      <th>esc_pa2315aa_as</th>\n",
       "      <th>esc_ra2551aa_as</th>\n",
       "      <th>esc_ra2561aa_as</th>\n",
       "    </tr>\n",
       "    <tr>\n",
       "      <th>Strain</th>\n",
       "      <th></th>\n",
       "      <th></th>\n",
       "      <th></th>\n",
       "      <th></th>\n",
       "      <th></th>\n",
       "      <th></th>\n",
       "      <th></th>\n",
       "      <th></th>\n",
       "      <th></th>\n",
       "      <th></th>\n",
       "      <th></th>\n",
       "      <th></th>\n",
       "      <th></th>\n",
       "      <th></th>\n",
       "      <th></th>\n",
       "      <th></th>\n",
       "      <th></th>\n",
       "      <th></th>\n",
       "      <th></th>\n",
       "      <th></th>\n",
       "      <th></th>\n",
       "    </tr>\n",
       "  </thead>\n",
       "  <tbody>\n",
       "    <tr>\n",
       "      <th>Lineage</th>\n",
       "      <td>1</td>\n",
       "      <td>1</td>\n",
       "      <td>1</td>\n",
       "      <td>1</td>\n",
       "      <td>1</td>\n",
       "      <td>1</td>\n",
       "      <td>1</td>\n",
       "      <td>1</td>\n",
       "      <td>1</td>\n",
       "      <td>1</td>\n",
       "      <td>...</td>\n",
       "      <td>51</td>\n",
       "      <td>51</td>\n",
       "      <td>51</td>\n",
       "      <td>51</td>\n",
       "      <td>51</td>\n",
       "      <td>51</td>\n",
       "      <td>51</td>\n",
       "      <td>51</td>\n",
       "      <td>51</td>\n",
       "      <td>51</td>\n",
       "    </tr>\n",
       "    <tr>\n",
       "      <th>group_5501</th>\n",
       "      <td>0</td>\n",
       "      <td>0</td>\n",
       "      <td>0</td>\n",
       "      <td>0</td>\n",
       "      <td>0</td>\n",
       "      <td>0</td>\n",
       "      <td>0</td>\n",
       "      <td>0</td>\n",
       "      <td>0</td>\n",
       "      <td>0</td>\n",
       "      <td>...</td>\n",
       "      <td>0</td>\n",
       "      <td>0</td>\n",
       "      <td>0</td>\n",
       "      <td>0</td>\n",
       "      <td>0</td>\n",
       "      <td>0</td>\n",
       "      <td>0</td>\n",
       "      <td>0</td>\n",
       "      <td>0</td>\n",
       "      <td>0</td>\n",
       "    </tr>\n",
       "    <tr>\n",
       "      <th>group_4783</th>\n",
       "      <td>0</td>\n",
       "      <td>0</td>\n",
       "      <td>0</td>\n",
       "      <td>0</td>\n",
       "      <td>0</td>\n",
       "      <td>0</td>\n",
       "      <td>0</td>\n",
       "      <td>0</td>\n",
       "      <td>0</td>\n",
       "      <td>0</td>\n",
       "      <td>...</td>\n",
       "      <td>0</td>\n",
       "      <td>0</td>\n",
       "      <td>0</td>\n",
       "      <td>0</td>\n",
       "      <td>0</td>\n",
       "      <td>0</td>\n",
       "      <td>0</td>\n",
       "      <td>0</td>\n",
       "      <td>0</td>\n",
       "      <td>0</td>\n",
       "    </tr>\n",
       "    <tr>\n",
       "      <th>group_4456</th>\n",
       "      <td>0</td>\n",
       "      <td>0</td>\n",
       "      <td>0</td>\n",
       "      <td>0</td>\n",
       "      <td>0</td>\n",
       "      <td>0</td>\n",
       "      <td>0</td>\n",
       "      <td>0</td>\n",
       "      <td>0</td>\n",
       "      <td>0</td>\n",
       "      <td>...</td>\n",
       "      <td>0</td>\n",
       "      <td>0</td>\n",
       "      <td>0</td>\n",
       "      <td>0</td>\n",
       "      <td>0</td>\n",
       "      <td>0</td>\n",
       "      <td>0</td>\n",
       "      <td>0</td>\n",
       "      <td>0</td>\n",
       "      <td>0</td>\n",
       "    </tr>\n",
       "    <tr>\n",
       "      <th>group_6055</th>\n",
       "      <td>0</td>\n",
       "      <td>0</td>\n",
       "      <td>0</td>\n",
       "      <td>0</td>\n",
       "      <td>0</td>\n",
       "      <td>0</td>\n",
       "      <td>0</td>\n",
       "      <td>0</td>\n",
       "      <td>0</td>\n",
       "      <td>0</td>\n",
       "      <td>...</td>\n",
       "      <td>0</td>\n",
       "      <td>0</td>\n",
       "      <td>0</td>\n",
       "      <td>0</td>\n",
       "      <td>0</td>\n",
       "      <td>0</td>\n",
       "      <td>0</td>\n",
       "      <td>0</td>\n",
       "      <td>0</td>\n",
       "      <td>0</td>\n",
       "    </tr>\n",
       "    <tr>\n",
       "      <th>...</th>\n",
       "      <td>...</td>\n",
       "      <td>...</td>\n",
       "      <td>...</td>\n",
       "      <td>...</td>\n",
       "      <td>...</td>\n",
       "      <td>...</td>\n",
       "      <td>...</td>\n",
       "      <td>...</td>\n",
       "      <td>...</td>\n",
       "      <td>...</td>\n",
       "      <td>...</td>\n",
       "      <td>...</td>\n",
       "      <td>...</td>\n",
       "      <td>...</td>\n",
       "      <td>...</td>\n",
       "      <td>...</td>\n",
       "      <td>...</td>\n",
       "      <td>...</td>\n",
       "      <td>...</td>\n",
       "      <td>...</td>\n",
       "      <td>...</td>\n",
       "    </tr>\n",
       "    <tr>\n",
       "      <th>group_832_2</th>\n",
       "      <td>0</td>\n",
       "      <td>0</td>\n",
       "      <td>0</td>\n",
       "      <td>0</td>\n",
       "      <td>0</td>\n",
       "      <td>0</td>\n",
       "      <td>0</td>\n",
       "      <td>0</td>\n",
       "      <td>0</td>\n",
       "      <td>0</td>\n",
       "      <td>...</td>\n",
       "      <td>0</td>\n",
       "      <td>0</td>\n",
       "      <td>0</td>\n",
       "      <td>0</td>\n",
       "      <td>0</td>\n",
       "      <td>0</td>\n",
       "      <td>0</td>\n",
       "      <td>0</td>\n",
       "      <td>0</td>\n",
       "      <td>0</td>\n",
       "    </tr>\n",
       "    <tr>\n",
       "      <th>group_1484_5</th>\n",
       "      <td>0</td>\n",
       "      <td>0</td>\n",
       "      <td>0</td>\n",
       "      <td>0</td>\n",
       "      <td>0</td>\n",
       "      <td>0</td>\n",
       "      <td>0</td>\n",
       "      <td>0</td>\n",
       "      <td>0</td>\n",
       "      <td>0</td>\n",
       "      <td>...</td>\n",
       "      <td>0</td>\n",
       "      <td>0</td>\n",
       "      <td>0</td>\n",
       "      <td>0</td>\n",
       "      <td>0</td>\n",
       "      <td>0</td>\n",
       "      <td>0</td>\n",
       "      <td>0</td>\n",
       "      <td>0</td>\n",
       "      <td>0</td>\n",
       "    </tr>\n",
       "    <tr>\n",
       "      <th>group_1503_2</th>\n",
       "      <td>0</td>\n",
       "      <td>0</td>\n",
       "      <td>0</td>\n",
       "      <td>0</td>\n",
       "      <td>0</td>\n",
       "      <td>0</td>\n",
       "      <td>0</td>\n",
       "      <td>0</td>\n",
       "      <td>0</td>\n",
       "      <td>0</td>\n",
       "      <td>...</td>\n",
       "      <td>0</td>\n",
       "      <td>0</td>\n",
       "      <td>0</td>\n",
       "      <td>0</td>\n",
       "      <td>0</td>\n",
       "      <td>0</td>\n",
       "      <td>0</td>\n",
       "      <td>0</td>\n",
       "      <td>0</td>\n",
       "      <td>0</td>\n",
       "    </tr>\n",
       "    <tr>\n",
       "      <th>group_1547_6</th>\n",
       "      <td>0</td>\n",
       "      <td>0</td>\n",
       "      <td>0</td>\n",
       "      <td>0</td>\n",
       "      <td>0</td>\n",
       "      <td>0</td>\n",
       "      <td>0</td>\n",
       "      <td>0</td>\n",
       "      <td>0</td>\n",
       "      <td>0</td>\n",
       "      <td>...</td>\n",
       "      <td>0</td>\n",
       "      <td>0</td>\n",
       "      <td>0</td>\n",
       "      <td>0</td>\n",
       "      <td>0</td>\n",
       "      <td>0</td>\n",
       "      <td>0</td>\n",
       "      <td>0</td>\n",
       "      <td>0</td>\n",
       "      <td>0</td>\n",
       "    </tr>\n",
       "    <tr>\n",
       "      <th>group_1575_5</th>\n",
       "      <td>0</td>\n",
       "      <td>0</td>\n",
       "      <td>0</td>\n",
       "      <td>0</td>\n",
       "      <td>0</td>\n",
       "      <td>0</td>\n",
       "      <td>0</td>\n",
       "      <td>0</td>\n",
       "      <td>0</td>\n",
       "      <td>0</td>\n",
       "      <td>...</td>\n",
       "      <td>0</td>\n",
       "      <td>0</td>\n",
       "      <td>0</td>\n",
       "      <td>0</td>\n",
       "      <td>0</td>\n",
       "      <td>0</td>\n",
       "      <td>0</td>\n",
       "      <td>0</td>\n",
       "      <td>0</td>\n",
       "      <td>0</td>\n",
       "    </tr>\n",
       "  </tbody>\n",
       "</table>\n",
       "<p>39818 rows × 7512 columns</p>\n",
       "</div>"
      ],
      "text/plain": [
       "              41004_G02_contigs_pacbio  50884_F01_contigs_pacbio  \\\n",
       "Strain                                                             \n",
       "Lineage                              1                         1   \n",
       "group_5501                           0                         0   \n",
       "group_4783                           0                         0   \n",
       "group_4456                           0                         0   \n",
       "group_6055                           0                         0   \n",
       "...                                ...                       ...   \n",
       "group_832_2                          0                         0   \n",
       "group_1484_5                         0                         0   \n",
       "group_1503_2                         0                         0   \n",
       "group_1547_6                         0                         0   \n",
       "group_1575_5                         0                         0   \n",
       "\n",
       "              AIAW00000000  AIBY00000000  AIFN00000000  NC_002655  NC_002695  \\\n",
       "Strain                                                                         \n",
       "Lineage                  1             1             1          1          1   \n",
       "group_5501               0             0             0          0          0   \n",
       "group_4783               0             0             0          0          0   \n",
       "group_4456               0             0             0          0          0   \n",
       "group_6055               0             0             0          0          0   \n",
       "...                    ...           ...           ...        ...        ...   \n",
       "group_832_2              0             0             0          0          0   \n",
       "group_1484_5             0             0             0          0          0   \n",
       "group_1503_2             0             0             0          0          0   \n",
       "group_1547_6             0             0             0          0          0   \n",
       "group_1575_5             0             0             0          0          0   \n",
       "\n",
       "              NC_011353  NC_013008  NC_017906  ...  esc_pa2010aa_as  \\\n",
       "Strain                                         ...                    \n",
       "Lineage               1          1          1  ...               51   \n",
       "group_5501            0          0          0  ...                0   \n",
       "group_4783            0          0          0  ...                0   \n",
       "group_4456            0          0          0  ...                0   \n",
       "group_6055            0          0          0  ...                0   \n",
       "...                 ...        ...        ...  ...              ...   \n",
       "group_832_2           0          0          0  ...                0   \n",
       "group_1484_5          0          0          0  ...                0   \n",
       "group_1503_2          0          0          0  ...                0   \n",
       "group_1547_6          0          0          0  ...                0   \n",
       "group_1575_5          0          0          0  ...                0   \n",
       "\n",
       "              esc_pa2013aa_as  esc_pa2014aa_as  esc_pa2016aa_as  \\\n",
       "Strain                                                            \n",
       "Lineage                    51               51               51   \n",
       "group_5501                  0                0                0   \n",
       "group_4783                  0                0                0   \n",
       "group_4456                  0                0                0   \n",
       "group_6055                  0                0                0   \n",
       "...                       ...              ...              ...   \n",
       "group_832_2                 0                0                0   \n",
       "group_1484_5                0                0                0   \n",
       "group_1503_2                0                0                0   \n",
       "group_1547_6                0                0                0   \n",
       "group_1575_5                0                0                0   \n",
       "\n",
       "              esc_pa2019aa_as  esc_pa2021aa_as  esc_pa2023aa_as  \\\n",
       "Strain                                                            \n",
       "Lineage                    51               51               51   \n",
       "group_5501                  0                0                0   \n",
       "group_4783                  0                0                0   \n",
       "group_4456                  0                0                0   \n",
       "group_6055                  0                0                0   \n",
       "...                       ...              ...              ...   \n",
       "group_832_2                 0                0                0   \n",
       "group_1484_5                0                0                0   \n",
       "group_1503_2                0                0                0   \n",
       "group_1547_6                0                0                0   \n",
       "group_1575_5                0                0                0   \n",
       "\n",
       "              esc_pa2315aa_as  esc_ra2551aa_as  esc_ra2561aa_as  \n",
       "Strain                                                           \n",
       "Lineage                    51               51               51  \n",
       "group_5501                  0                0                0  \n",
       "group_4783                  0                0                0  \n",
       "group_4456                  0                0                0  \n",
       "group_6055                  0                0                0  \n",
       "...                       ...              ...              ...  \n",
       "group_832_2                 0                0                0  \n",
       "group_1484_5                0                0                0  \n",
       "group_1503_2                0                0                0  \n",
       "group_1547_6                0                0                0  \n",
       "group_1575_5                0                0                0  \n",
       "\n",
       "[39818 rows x 7512 columns]"
      ]
     },
     "execution_count": 7,
     "metadata": {},
     "output_type": "execute_result"
    }
   ],
   "source": [
    "large_data[row_sums >= 2]\n"
   ]
  },
  {
   "cell_type": "code",
   "execution_count": 8,
   "metadata": {},
   "outputs": [],
   "source": [
    "frequency1 = large_data.sum(axis=1)"
   ]
  },
  {
   "cell_type": "code",
   "execution_count": 9,
   "metadata": {},
   "outputs": [
    {
     "data": {
      "image/png": "[encoded data removed]",
      "text/plain": [
       "<Figure size 720x576 with 1 Axes>"
      ]
     },
     "metadata": {},
     "output_type": "display_data"
    }
   ],
   "source": [
    "plt.figure(figsize=(10,8))\n",
    "plt.hist(frequency1, color='dodgerblue')\n",
    "plt.xlabel('Gene count')\n",
    "plt.ylabel('Frequency')\n",
    "plt.savefig(\"gene_count_2.pdf\", format=\"pdf\", bbox_inches=\"tight\")\n",
    "plt.show()"
   ]
  },
  {
   "cell_type": "code",
   "execution_count": 10,
   "metadata": {},
   "outputs": [],
   "source": [
    "frequency2 = large_data.sum(0)"
   ]
  },
  {
   "cell_type": "code",
   "execution_count": 11,
   "metadata": {},
   "outputs": [],
   "source": [
    "# plt.figure(figsize=(10,8))\n",
    "# plt.hist(frequency2, bin=20, color='dodgerblue')\n",
    "# plt.xlabel('Genome size')\n",
    "# plt.ylabel('Gene Gamily Frequency')\n",
    "# plt.savefig(\"gene_size_2.pdf\", format=\"pdf\", bbox_inches=\"tight\")\n",
    "# plt.show()"
   ]
  },
  {
   "cell_type": "code",
   "execution_count": 56,
   "metadata": {},
   "outputs": [],
   "source": [
    "row_sums = large_data.sum(axis=1)\n",
    "filtered_data = large_data[row_sums >= 2]"
   ]
  },
  {
   "cell_type": "code",
   "execution_count": 57,
   "metadata": {},
   "outputs": [],
   "source": [
    "large_data_t = np.array(filtered_data.transpose())"
   ]
  },
  {
   "cell_type": "code",
   "execution_count": 58,
   "metadata": {},
   "outputs": [
    {
     "data": {
      "text/plain": [
       "(7512, 39818)"
      ]
     },
     "execution_count": 58,
     "metadata": {},
     "output_type": "execute_result"
    }
   ],
   "source": [
    "large_data_t.shape"
   ]
  },
  {
   "cell_type": "code",
   "execution_count": 59,
   "metadata": {},
   "outputs": [
    {
     "data": {
      "text/plain": [
       "array([[ 1,  0,  0, ...,  0,  0,  0],\n",
       "       [ 1,  0,  0, ...,  0,  0,  0],\n",
       "       [ 1,  0,  0, ...,  0,  0,  0],\n",
       "       ...,\n",
       "       [51,  0,  0, ...,  0,  0,  0],\n",
       "       [51,  0,  0, ...,  0,  0,  0],\n",
       "       [51,  0,  0, ...,  0,  0,  0]])"
      ]
     },
     "execution_count": 59,
     "metadata": {},
     "output_type": "execute_result"
    }
   ],
   "source": [
    "large_data_t"
   ]
  },
  {
   "cell_type": "code",
   "execution_count": 15,
   "metadata": {},
   "outputs": [],
   "source": [
    "large_data_t = large_data_t[:,1:]"
   ]
  },
  {
   "cell_type": "code",
   "execution_count": 16,
   "metadata": {},
   "outputs": [
    {
     "data": {
      "text/plain": [
       "array([[0, 0, 0, ..., 0, 0, 0],\n",
       "       [0, 0, 0, ..., 0, 0, 0],\n",
       "       [0, 0, 0, ..., 0, 0, 0],\n",
       "       ...,\n",
       "       [0, 0, 0, ..., 0, 0, 0],\n",
       "       [0, 0, 0, ..., 0, 0, 0],\n",
       "       [0, 0, 0, ..., 0, 0, 0]])"
      ]
     },
     "execution_count": 16,
     "metadata": {},
     "output_type": "execute_result"
    }
   ],
   "source": [
    "large_data_t"
   ]
  },
  {
   "cell_type": "code",
   "execution_count": 17,
   "metadata": {},
   "outputs": [
    {
     "data": {
      "text/plain": [
       "(7512, 39817)"
      ]
     },
     "execution_count": 17,
     "metadata": {},
     "output_type": "execute_result"
    }
   ],
   "source": [
    "large_data_t.shape"
   ]
  },
  {
   "cell_type": "markdown",
   "metadata": {},
   "source": [
    "# debugging on one sample "
   ]
  },
  {
   "cell_type": "code",
   "execution_count": 33,
   "metadata": {},
   "outputs": [],
   "source": [
    "# # Model inputs\n",
    "# input_dim = large_data_t.shape[1]\n",
    "# input_dim_old = 9730\n",
    "# hidden_dim = 512\n",
    "# latent_dim = 64\n",
    "\n",
    "# # Loading the model\n",
    "# pretrained_model = VAE_single(input_dim_old, hidden_dim, latent_dim)\n",
    "# pretrained_model.load_state_dict(torch.load('saved_single_sample_VAE.pt'))  \n",
    "\n",
    "# # Freezing the layers\n",
    "# for param in pretrained_model.parameters():\n",
    "#    param.requires_grad = False\n",
    "\n",
    "# # Ensure only the new head parameters are trainable\n",
    "# pretrained_model.heads = nn.Sequential(nn.Linear(\n",
    "#                               in_features=latent_dim, \n",
    "#                               out_features=input_dim))"
   ]
  },
  {
   "cell_type": "code",
   "execution_count": 34,
   "metadata": {},
   "outputs": [
    {
     "name": "stdout",
     "output_type": "stream",
     "text": [
      "\n",
      "Detailed New Head Layer Information:\n",
      "Layer Name: encoder\n",
      "Sequential(\n",
      "  (0): Linear(in_features=9730, out_features=512, bias=True)\n",
      "  (1): InstanceNorm1d(512, eps=1e-05, momentum=0.1, affine=False, track_running_stats=False)\n",
      "  (2): ReLU()\n",
      "  (3): Linear(in_features=512, out_features=512, bias=True)\n",
      "  (4): InstanceNorm1d(512, eps=1e-05, momentum=0.1, affine=False, track_running_stats=False)\n",
      "  (5): ReLU()\n",
      "  (6): Linear(in_features=512, out_features=512, bias=True)\n",
      "  (7): InstanceNorm1d(512, eps=1e-05, momentum=0.1, affine=False, track_running_stats=False)\n",
      "  (8): ReLU()\n",
      ")\n",
      "Layer Name: mean_layer\n",
      "Linear(in_features=512, out_features=64, bias=True)\n",
      "Layer Name: logvar_layer\n",
      "Linear(in_features=512, out_features=64, bias=True)\n",
      "Layer Name: decoder\n",
      "Sequential(\n",
      "  (0): Linear(in_features=64, out_features=512, bias=True)\n",
      "  (1): InstanceNorm1d(512, eps=1e-05, momentum=0.1, affine=False, track_running_stats=False)\n",
      "  (2): ReLU()\n",
      "  (3): Linear(in_features=512, out_features=512, bias=True)\n",
      "  (4): InstanceNorm1d(512, eps=1e-05, momentum=0.1, affine=False, track_running_stats=False)\n",
      "  (5): ReLU()\n",
      "  (6): Linear(in_features=512, out_features=512, bias=True)\n",
      "  (7): InstanceNorm1d(512, eps=1e-05, momentum=0.1, affine=False, track_running_stats=False)\n",
      "  (8): ReLU()\n",
      "  (9): Linear(in_features=512, out_features=9730, bias=True)\n",
      "  (10): Sigmoid()\n",
      ")\n",
      "Layer Name: heads\n",
      "Sequential(\n",
      "  (0): Linear(in_features=64, out_features=39817, bias=True)\n",
      ")\n"
     ]
    }
   ],
   "source": [
    "# print(\"\\nDetailed New Head Layer Information:\")\n",
    "# for name, layer in pretrained_model.named_children():\n",
    "#     print(f\"Layer Name: {name}\")\n",
    "#     print(layer)"
   ]
  },
  {
   "cell_type": "code",
   "execution_count": 35,
   "metadata": {},
   "outputs": [],
   "source": [
    "# Dataloader for overfitting on one sample (for dubbiging purposes)\n",
    "input_dim = large_data_t.shape[1]\n",
    "binary_data = torch.tensor(np.random.randint(0, 2, size=(1, input_dim)), dtype=torch.float32)\n",
    "single_sample_dataset = TensorDataset(binary_data)\n",
    "single_sample_loader = DataLoader(single_sample_dataset, batch_size=1, shuffle=True)"
   ]
  },
  {
   "cell_type": "code",
   "execution_count": 36,
   "metadata": {},
   "outputs": [
    {
     "name": "stdout",
     "output_type": "stream",
     "text": [
      "tensor([[0., 1., 1.,  ..., 1., 0., 0.]])\n"
     ]
    }
   ],
   "source": [
    "print(binary_data)"
   ]
  },
  {
   "cell_type": "code",
   "execution_count": 37,
   "metadata": {},
   "outputs": [
    {
     "data": {
      "text/plain": [
       "39817"
      ]
     },
     "execution_count": 37,
     "metadata": {},
     "output_type": "execute_result"
    }
   ],
   "source": [
    "input_dim"
   ]
  },
  {
   "cell_type": "code",
   "execution_count": 38,
   "metadata": {},
   "outputs": [
    {
     "data": {
      "text/plain": [
       "torch.Size([1, 39817])"
      ]
     },
     "execution_count": 38,
     "metadata": {},
     "output_type": "execute_result"
    }
   ],
   "source": [
    "binary_data.shape"
   ]
  },
  {
   "cell_type": "code",
   "execution_count": 42,
   "metadata": {},
   "outputs": [
    {
     "name": "stdout",
     "output_type": "stream",
     "text": [
      "Epoch 0\n",
      "Loss (method1) = 27695.1328125\n",
      "Loss (method2) = 27653.90234375\n",
      "----------------------------------\n",
      "Final Loss after 100 epochs: 84.44257354736328\n"
     ]
    }
   ],
   "source": [
    "# NO GRADIENT CLIPPING AND SCHEDULER \n",
    "hidden_dim = 512\n",
    "latent_dim = 64\n",
    "beta_start = 0.1\n",
    "beta_end = 1.0\n",
    "n_epochs = 10\n",
    "input_dim = large_data_t.shape[1]\n",
    "\n",
    "# Loading the model\n",
    "model = VAE_single(input_dim, hidden_dim, latent_dim)\n",
    "\n",
    "# model = VAE_single(input_dim, hidden_dim, latent_dim)\n",
    "optimizer = torch.optim.Adam(model.parameters(), lr=1e-3)\n",
    "\n",
    "# Overfitting one sample to see if the model is broken \n",
    "num_epochs = 100\n",
    "\n",
    "# Collecting data for visualisation \n",
    "train_loss_vals1 = []\n",
    "train_loss_vals2 = []\n",
    "kl_divergences_no_beta = []\n",
    "kl_divergences_beta = []\n",
    "\n",
    "model.train()\n",
    "\n",
    "for epoch in range(num_epochs):\n",
    "    beta = beta_start + (beta_end - beta_start) * epoch / n_epochs\n",
    "    epoch_kl_divergence = 0\n",
    "    epoch_kl_divergence_beta = 0 \n",
    "    \n",
    "    for data in single_sample_loader:\n",
    "        data = data[0].to(torch.float)\n",
    "        # print(data)\n",
    "        \n",
    "        optimizer.zero_grad()\n",
    "        reconstruction, mu, logvar = model(data)\n",
    "        \n",
    "        reconstruction_loss = nn.functional.binary_cross_entropy(reconstruction, data, reduction='sum')\n",
    "        # print(reconstruction_loss.item())\n",
    "        \n",
    "        kl_divergence_loss = -0.5 * torch.sum(1 + logvar - mu.pow(2) - logvar.exp())\n",
    "        kl_divergence_loss_beta = beta * kl_divergence_loss\n",
    "        epoch_kl_divergence += kl_divergence_loss.item()\n",
    "        epoch_kl_divergence_beta += kl_divergence_loss_beta.item()\n",
    "        \n",
    "        # Total loss\n",
    "        loss = reconstruction_loss + kl_divergence_loss\n",
    "        loss2 = reconstruction_loss + kl_divergence_loss_beta\n",
    "        \n",
    "        # Backpropagation\n",
    "        loss.backward()\n",
    "        optimizer.step()   \n",
    "\n",
    "    if epoch % 100 == 0:\n",
    "        print(f\"Epoch {epoch}\\nLoss (method1) = {loss.item()}\\nLoss (method2) = {loss2.item()}\")\n",
    "        print(\"----------------------------------\")\n",
    "\n",
    "    train_loss_vals1.append(loss.item())\n",
    "    train_loss_vals2.append(loss2.item())\n",
    "\n",
    "    kl_divergences_no_beta.append(epoch_kl_divergence / len(single_sample_loader.dataset))\n",
    "    kl_divergences_beta.append(epoch_kl_divergence_beta / len(single_sample_loader.dataset))\n",
    "\n",
    "print(f\"Final Loss after {num_epochs} epochs: {loss.item()}\")"
   ]
  },
  {
   "cell_type": "code",
   "execution_count": 43,
   "metadata": {},
   "outputs": [
    {
     "name": "stdout",
     "output_type": "stream",
     "text": [
      "Model saved.\n"
     ]
    }
   ],
   "source": [
    "torch.save(model.state_dict(), \"saved_single_sample_VAE_BD.pt\")\n",
    "print(\"Model saved.\")"
   ]
  },
  {
   "cell_type": "code",
   "execution_count": 44,
   "metadata": {},
   "outputs": [
    {
     "name": "stdout",
     "output_type": "stream",
     "text": [
      "Generated samples:\n",
      " [[0. 1. 1. ... 1. 0. 0.]\n",
      " [0. 1. 1. ... 1. 0. 0.]\n",
      " [0. 1. 1. ... 1. 0. 0.]\n",
      " ...\n",
      " [0. 1. 1. ... 1. 0. 0.]\n",
      " [0. 1. 1. ... 1. 0. 0.]\n",
      " [0. 1. 1. ... 1. 0. 0.]]\n",
      "Generated samples:\n",
      " [[0.00189166 0.9979272  0.9976666  ... 0.998028   0.00203547 0.0019804 ]\n",
      " [0.00188531 0.99790263 0.99767655 ... 0.9979965  0.00201627 0.00198419]\n",
      " [0.00191582 0.9979108  0.99766266 ... 0.9980248  0.00204708 0.00198388]\n",
      " ...\n",
      " [0.00188548 0.9978951  0.9976792  ... 0.99800164 0.00204733 0.00200075]\n",
      " [0.00190347 0.9979213  0.9976744  ... 0.99803    0.00201127 0.0019715 ]\n",
      " [0.00189538 0.99791676 0.9976459  ... 0.99799526 0.00202601 0.00199846]]\n"
     ]
    }
   ],
   "source": [
    "# Load trained model \n",
    "model = VAE_single(input_dim, hidden_dim, latent_dim)\n",
    "model.load_state_dict(torch.load('saved_single_sample_VAE_BD.pt'))  \n",
    "model.eval()  \n",
    "\n",
    "# Generate 10 new samples\n",
    "num_samples = 10 \n",
    "with torch.no_grad():\n",
    "    z = torch.randn(num_samples, latent_dim)  # Sample from the standard normal distribution (????)\n",
    "    generated_samples = model.decode(z).cpu().numpy() \n",
    "\n",
    "threshold = 0.5\n",
    "binary_generated_samples = (generated_samples > threshold).astype(float)\n",
    "\n",
    "print(\"Generated samples:\\n\", binary_generated_samples)\n",
    "print(\"Generated samples:\\n\", generated_samples)"
   ]
  },
  {
   "cell_type": "markdown",
   "metadata": {},
   "source": [
    "# working with a bigger dataset "
   ]
  },
  {
   "cell_type": "code",
   "execution_count": 47,
   "metadata": {},
   "outputs": [],
   "source": [
    "# Model inputs\n",
    "hidden_dim = 512\n",
    "latent_dim = 64\n",
    "beta_start = 0.1\n",
    "beta_end = 1.0\n",
    "n_epochs = 10\n",
    "input_dim = large_data_t.shape[1]\n",
    "\n",
    "# Loading the model\n",
    "model = VAE(input_dim, hidden_dim, latent_dim)"
   ]
  },
  {
   "cell_type": "code",
   "execution_count": 48,
   "metadata": {},
   "outputs": [],
   "source": [
    "# Convert to PyTorch tensor\n",
    "data_tensor = torch.tensor(large_data_t, dtype=torch.float32)\n",
    "\n",
    "# Split into train and test sets\n",
    "train_data, val_data = train_test_split(data_tensor, test_size=0.3, random_state=12345)\n",
    "\n",
    "batch_size = 32\n",
    "\n",
    "# TensorDataset\n",
    "train_dataset = TensorDataset(train_data)\n",
    "val_dataset = TensorDataset(val_data)\n",
    "\n",
    "# Dataloader fot a small subset for overfitting (again, for debugging)\n",
    "small_subset_indices = np.random.choice(len(train_dataset), size=256, replace=False)\n",
    "small_subset = Subset(train_dataset, small_subset_indices)\n",
    "small_loader = DataLoader(small_subset, batch_size=batch_size, shuffle=True)"
   ]
  },
  {
   "cell_type": "code",
   "execution_count": 49,
   "metadata": {},
   "outputs": [
    {
     "data": {
      "text/plain": [
       "256"
      ]
     },
     "execution_count": 49,
     "metadata": {},
     "output_type": "execute_result"
    }
   ],
   "source": [
    "len(small_subset)"
   ]
  },
  {
   "cell_type": "code",
   "execution_count": 50,
   "metadata": {},
   "outputs": [
    {
     "data": {
      "text/plain": [
       "torch.Size([5258, 39817])"
      ]
     },
     "execution_count": 50,
     "metadata": {},
     "output_type": "execute_result"
    }
   ],
   "source": [
    "train_data.shape"
   ]
  },
  {
   "cell_type": "code",
   "execution_count": 51,
   "metadata": {},
   "outputs": [
    {
     "data": {
      "text/plain": [
       "torch.Size([2254, 39817])"
      ]
     },
     "execution_count": 51,
     "metadata": {},
     "output_type": "execute_result"
    }
   ],
   "source": [
    "val_data.shape"
   ]
  },
  {
   "cell_type": "code",
   "execution_count": 52,
   "metadata": {},
   "outputs": [
    {
     "data": {
      "text/plain": [
       "39817"
      ]
     },
     "execution_count": 52,
     "metadata": {},
     "output_type": "execute_result"
    }
   ],
   "source": [
    "input_dim"
   ]
  },
  {
   "cell_type": "code",
   "execution_count": 54,
   "metadata": {},
   "outputs": [
    {
     "name": "stdout",
     "output_type": "stream",
     "text": [
      "Epoch 0\n",
      "Loss (method 2) = 68386.6484375\n",
      "----------------------------------\n",
      "Final Loss after 100 epochs: 8639.6435546875\n"
     ]
    }
   ],
   "source": [
    "input_dim = large_data_t.shape[1]\n",
    "hidden_dim = 512\n",
    "latent_dim = 64\n",
    "beta_start = 0.1\n",
    "beta_end = 1.0\n",
    "\n",
    "# model = VAE(input_dim, hidden_dim, latent_dim)\n",
    "optimizer = torch.optim.Adam(model.parameters(), lr=1e-3)\n",
    "\n",
    "model.train()\n",
    "num_epochs = 100\n",
    "\n",
    "# train_loss_vals1 = []\n",
    "train_loss_vals2 = []\n",
    "# kl_divergences_no_beta = []\n",
    "kl_divergences_beta = []\n",
    "\n",
    "for epoch in range(num_epochs):\n",
    "    beta = beta_start + (beta_end - beta_start) * epoch / num_epochs\n",
    "    epoch_kl_divergence_beta = 0\n",
    "    for data in small_loader:\n",
    "        data = data[0].to(torch.float)\n",
    "        # print(data)\n",
    "    \n",
    "        optimizer.zero_grad()\n",
    "        reconstruction, mu, logvar = model(data)\n",
    "        \n",
    "        reconstruction_loss = nn.functional.binary_cross_entropy(reconstruction, data, reduction='sum')\n",
    "        # print(reconstruction_loss.item())\n",
    "\n",
    "        kl_divergence_loss = -0.5 * torch.sum(1 + logvar - mu.pow(2) - logvar.exp())\n",
    "        kl_divergence_loss_beta = beta * kl_divergence_loss\n",
    "        # epoch_kl_divergence += kl_divergence_loss.item()\n",
    "        epoch_kl_divergence_beta += kl_divergence_loss_beta.item()\n",
    "        \n",
    "        # Total loss\n",
    "        # loss = reconstruction_loss + kl_divergence_loss\n",
    "        loss2 = reconstruction_loss + kl_divergence_loss_beta\n",
    "        \n",
    "        loss2.backward()\n",
    "        optimizer.step()   \n",
    "\n",
    "    if epoch % 100 == 0:\n",
    "        print(f\"Epoch {epoch}\\nLoss (method 2) = {loss2.item()}\")\n",
    "        print(\"----------------------------------\")\n",
    "\n",
    "    # train_loss_vals1.append(loss.item())\n",
    "    train_loss_vals2.append(loss2.item())\n",
    "\n",
    "    # kl_divergences_no_beta.append(epoch_kl_divergence / len(small_loader.dataset))\n",
    "    kl_divergences_beta.append(epoch_kl_divergence_beta / len(small_loader.dataset))\n",
    "\n",
    "print(f\"Final Loss after {num_epochs} epochs: {loss2.item()}\")"
   ]
  },
  {
   "cell_type": "code",
   "execution_count": 55,
   "metadata": {},
   "outputs": [
    {
     "name": "stdout",
     "output_type": "stream",
     "text": [
      "Model saved.\n"
     ]
    }
   ],
   "source": [
    "torch.save(model.state_dict(), \"saved_small_VAE1_BD.pt\")\n",
    "print(\"Model saved.\")"
   ]
  },
  {
   "cell_type": "markdown",
   "metadata": {},
   "source": [
    "# training of full dataset (train_full_dataset.py script)"
   ]
  },
  {
   "cell_type": "code",
   "execution_count": 94,
   "metadata": {},
   "outputs": [],
   "source": [
    "data = pd.read_csv(PANGENOME_MATRIX_CSV, index_col=[0], header=[0])"
   ]
  },
  {
   "cell_type": "code",
   "execution_count": 95,
   "metadata": {},
   "outputs": [
    {
     "data": {
      "text/plain": [
       "25420"
      ]
     },
     "execution_count": 95,
     "metadata": {},
     "output_type": "execute_result"
    }
   ],
   "source": [
    "data.shape[0]"
   ]
  },
  {
   "cell_type": "code",
   "execution_count": 99,
   "metadata": {},
   "outputs": [],
   "source": [
    "data_array_t = np.array(data.transpose())"
   ]
  },
  {
   "cell_type": "code",
   "execution_count": 100,
   "metadata": {},
   "outputs": [],
   "source": [
    "large_data_t = np.array(large_data.transpose())\n",
    "large_data_t = large_data_t[:,1:]\n",
    "input_dim = large_data_t.shape[1]\n",
    "\n",
    "# Load trained model \n",
    "model = VAE(input_dim, hidden_dim, latent_dim)\n",
    "model.load_state_dict(torch.load('saved_KL_annealing_VAE_BD_100.pt', map_location=device))\n",
    "model.eval()  \n",
    "\n",
    "# Generate 10 new samples\n",
    "num_samples = 100 \n",
    "\n",
    "sampled_indices = np.random.choice(data_array_t.shape[0], num_samples, replace=False)\n",
    "z = torch.tensor(data_array_t[sampled_indices, :latent_dim], dtype=torch.float32)  # Sample from your dataset\n",
    "\n",
    "# No changing weigths\n",
    "with torch.no_grad():\n",
    "    generated_samples = model.decode(z).cpu().numpy() \n",
    "\n",
    "threshold = 0.5\n",
    "binary_generated_samples = (generated_samples > threshold).astype(float)"
   ]
  },
  {
   "cell_type": "code",
   "execution_count": 101,
   "metadata": {},
   "outputs": [
    {
     "name": "stdout",
     "output_type": "stream",
     "text": [
      "Generated probabilities:\n",
      " [[6.8764103e-04 1.3949883e-06 5.9492851e-09 ... 1.9775812e-09\n",
      "  2.1472870e-09 1.1841341e-08]\n",
      " [1.5955050e-03 1.7294525e-06 9.2880442e-10 ... 4.0853871e-09\n",
      "  4.6074513e-09 3.1767865e-08]\n",
      " [5.3650362e-04 1.9226061e-06 6.3570398e-09 ... 6.5642904e-09\n",
      "  7.4152267e-09 4.4697874e-08]\n",
      " ...\n",
      " [1.9423586e-03 3.6301544e-06 1.0532449e-08 ... 3.3356059e-08\n",
      "  3.6452548e-08 1.8534720e-07]\n",
      " [1.4013881e-04 2.1969536e-06 3.0058314e-10 ... 5.2599778e-09\n",
      "  5.8936380e-09 2.2140561e-08]\n",
      " [6.3005544e-04 5.1748862e-06 8.3360369e-08 ... 2.5359697e-08\n",
      "  2.7430360e-08 1.1926686e-07]]\n",
      "Generated samples:\n",
      " [[0. 0. 0. ... 0. 0. 0.]\n",
      " [0. 0. 0. ... 0. 0. 0.]\n",
      " [0. 0. 0. ... 0. 0. 0.]\n",
      " ...\n",
      " [0. 0. 0. ... 0. 0. 0.]\n",
      " [0. 0. 0. ... 0. 0. 0.]\n",
      " [0. 0. 0. ... 0. 0. 0.]]\n"
     ]
    }
   ],
   "source": [
    "print(\"Generated probabilities:\\n\", generated_samples)\n",
    "print(\"Generated samples:\\n\", binary_generated_samples)"
   ]
  },
  {
   "cell_type": "code",
   "execution_count": 102,
   "metadata": {},
   "outputs": [
    {
     "data": {
      "text/plain": [
       "array([4566., 4572., 4564., 4601., 4629., 4607., 4598., 4568., 4597.,\n",
       "       4558., 4553., 4615., 4562., 4610., 4594., 4575., 4583., 4562.,\n",
       "       4593., 4562., 4595., 4548., 4615., 4607., 4625., 4578., 4561.,\n",
       "       4253., 4551., 4570., 4596., 4603., 4563., 4564., 4596., 4583.,\n",
       "       4575., 4565., 4607., 4606., 4590., 4558., 4600., 4568., 4563.,\n",
       "       4569., 4598., 4565., 4561., 4551., 4573., 4565., 4567., 4563.,\n",
       "       4603., 4585., 4590., 4591., 4589., 4607., 4601., 4585., 4607.,\n",
       "       4586., 4583., 4598., 4627., 4607., 4618., 4607., 4571., 4607.,\n",
       "       4603., 4562., 4569., 4564., 4607., 4555., 4563., 4585., 4529.,\n",
       "       4566., 4626., 4562., 4579., 4580., 4593., 4585., 4613., 4577.,\n",
       "       4570., 4573., 4625., 4529., 4619., 4564., 4603., 4608., 4572.,\n",
       "       4567.])"
      ]
     },
     "execution_count": 102,
     "metadata": {},
     "output_type": "execute_result"
    }
   ],
   "source": [
    "np.sum(binary_generated_samples, axis=1)"
   ]
  },
  {
   "cell_type": "code",
   "execution_count": 103,
   "metadata": {},
   "outputs": [
    {
     "data": {
      "text/plain": [
       "100"
      ]
     },
     "execution_count": 103,
     "metadata": {},
     "output_type": "execute_result"
    }
   ],
   "source": [
    "len(np.sum(binary_generated_samples, axis=1))"
   ]
  },
  {
   "cell_type": "code",
   "execution_count": null,
   "metadata": {},
   "outputs": [],
   "source": []
  },
  {
   "cell_type": "code",
   "execution_count": null,
   "metadata": {},
   "outputs": [],
   "source": []
  }
 ],
 "metadata": {
  "kernelspec": {
   "display_name": "learning_env",
   "language": "python",
   "name": "python3"
  },
  "language_info": {
   "codemirror_mode": {
    "name": "ipython",
    "version": 3
   },
   "file_extension": ".py",
   "mimetype": "text/x-python",
   "name": "python",
   "nbconvert_exporter": "python",
   "pygments_lexer": "ipython3",
   "version": "3.8.13"
  }
 },
 "nbformat": 4,
 "nbformat_minor": 2
}
